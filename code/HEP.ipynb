{
 "cells": [
  {
   "cell_type": "code",
   "execution_count": null,
   "metadata": {},
   "outputs": [],
   "source": [
    "import pandas as pd\n",
    "from collections import Counter\n",
    "import time\n",
    "# from fruithut.fruithut import *\n",
    "# from mushroom.mushroom import *\n",
    "# from foodmart.foodmart import *\n",
    "# from chess.chess import *\n",
    "from demo_web.demo_web import *"
   ]
  },
  {
   "cell_type": "markdown",
   "metadata": {},
   "source": [
    "# 1. Data Sample"
   ]
  },
  {
   "cell_type": "code",
   "execution_count": null,
   "metadata": {},
   "outputs": [],
   "source": [
    "\n",
    "# sample\n",
    "# data = {\n",
    "#     'Tid': ['T1', 'T2', 'T3', 'T4', 'T5', 'T6'],\n",
    "#     'Items': [['a', 'c', 'd'],\n",
    "#               ['a', 'b', 'd'],\n",
    "#               ['b', 'c', 'd', 'e'],\n",
    "#               ['a', 'd'],\n",
    "#               ['c', 'd', 'e'],\n",
    "#               ['a', 'b', 'c', 'd', 'e']]\n",
    "# }\n",
    "# df = pd.DataFrame(data)\n",
    "\n",
    "# data = {\n",
    "#     'Tid': ['T1', 'T2', 'T3', 'T4', 'T5', 'T6'],\n",
    "#     'Items': [['apple', 'cherry', 'durian'],\n",
    "#               ['apple', 'banana', 'durian'],\n",
    "#               ['banana', 'cherry', 'durian', 'elderberry'],\n",
    "#               ['apple', 'durian'],\n",
    "#               ['cherry', 'durian', 'elderberry'],\n",
    "#               ['apple', 'banana', 'cherry', 'durian', 'elderberry']]\n",
    "# }\n",
    "\n",
    "# df = pd.DataFrame(data)\n",
    "df['Item_Length'] = df['Items'].apply(lambda items: len(items))\n",
    "len_df = len(df)\n",
    "df"
   ]
  },
  {
   "cell_type": "code",
   "execution_count": null,
   "metadata": {},
   "outputs": [],
   "source": [
    "unique_items = sorted(df['Items'].explode().unique()) # get unique item => save to list\n",
    "unique_items"
   ]
  },
  {
   "cell_type": "markdown",
   "metadata": {},
   "source": [
    "# 2. Transform data - Calculate metric"
   ]
  },
  {
   "cell_type": "markdown",
   "metadata": {},
   "source": [
    "## 2.1 Occupancy list"
   ]
  },
  {
   "cell_type": "code",
   "execution_count": null,
   "metadata": {},
   "outputs": [],
   "source": [
    "# calculate occupancy list: {'a': [(T1, 3), (T2, 3), (T4, 2), (T6, 5)]} - list Tid, len(Tid) containing unique item\n",
    "def occupancy_list(df):\n",
    "    # occupancy_list = {} \n",
    "    # for item in unique_items:\n",
    "    #     tid_list = df[df['Items'].apply(lambda items: item in items)]['Tid'].tolist() # create column Items with items in unique item\n",
    "    #     tid_lengths = [(tid, len(df[df['Tid'] == tid]['Items'].iloc[0])) for tid in tid_list if item in df[df['Tid'] == tid]['Items'].iloc[0]] # length of Tid containing unique items\n",
    "    #     occupancy_list[item] = tid_lengths # add value with item_key\n",
    "    # df_occupancy_list = pd.DataFrame(occupancy_list.items(), columns=['Items', 'Occupancy_list'])\n",
    "    # df_occupancy_list['Items'] = df_occupancy_list['Items'].apply(lambda x: [x])\n",
    "    \n",
    "    df_unpivot = df.explode('Items')\n",
    "    df_occupancy_list = df_unpivot.groupby('Items').agg({'Tid': list, 'Item_Length': list}).reset_index()\n",
    "    df_occupancy_list['Occupancy_list'] = df_occupancy_list.apply(lambda row: list(zip(row['Tid'], row['Item_Length'])), axis=1)\n",
    "    df_occupancy_list = df_occupancy_list[['Items', 'Occupancy_list']]\n",
    "    df_occupancy_list['Items'] = df_occupancy_list['Items'].apply(lambda x: [x])\n",
    "    return df_occupancy_list"
   ]
  },
  {
   "cell_type": "code",
   "execution_count": null,
   "metadata": {},
   "outputs": [],
   "source": [
    "start_time = time.time()\n",
    "df_occupancy_list = occupancy_list(df)\n",
    "print(df_occupancy_list)\n",
    "end_time = time.time()\n",
    "execution_time = end_time - start_time\n",
    "print(f\"Execution time: {execution_time} seconds\")"
   ]
  },
  {
   "cell_type": "markdown",
   "metadata": {},
   "source": [
    "## 2.2 Support Transaction Set - StSet"
   ]
  },
  {
   "cell_type": "code",
   "execution_count": null,
   "metadata": {},
   "outputs": [],
   "source": [
    "# calculate stset: {'a': [T1, T2, T4, T6]} - list of Tid containing unique item\n",
    "def cal_stset(df_occupancy_list):\n",
    "    df_stset = pd.DataFrame(columns=['Items', 'Occupancy'])\n",
    "\n",
    "    for index, row in df_occupancy_list.iterrows():\n",
    "        item = row['Items']\n",
    "        occupancy_list = [tid for tid, _ in row['Occupancy_list']] # get Tid containing unique item\n",
    "        df_stset = df_stset.append({'Items': item, 'Occupancy': occupancy_list}, ignore_index=True)\n",
    "    return df_stset"
   ]
  },
  {
   "cell_type": "code",
   "execution_count": null,
   "metadata": {},
   "outputs": [],
   "source": [
    "df_stset = cal_stset(df_occupancy_list)\n",
    "df_stset"
   ]
  },
  {
   "cell_type": "markdown",
   "metadata": {},
   "source": [
    "## 2.2 Support"
   ]
  },
  {
   "cell_type": "code",
   "execution_count": null,
   "metadata": {},
   "outputs": [],
   "source": [
    "# calculate support - count number of Tid containing unique item\n",
    "def cal_support(df_stset):\n",
    "    df_support = pd.DataFrame(columns=['Items', 'Support'])\n",
    "    df_support['Items'] = df_stset['Items']\n",
    "    df_support['Support'] = df_stset['Occupancy'].apply(len)\n",
    "    return df_support"
   ]
  },
  {
   "cell_type": "code",
   "execution_count": null,
   "metadata": {},
   "outputs": [],
   "source": [
    "df_support = cal_support(df_stset)\n",
    "df_support"
   ]
  },
  {
   "cell_type": "markdown",
   "metadata": {},
   "source": [
    "## 2.3 Occupancy"
   ]
  },
  {
   "cell_type": "code",
   "execution_count": null,
   "metadata": {},
   "outputs": [],
   "source": [
    "# calculate occupancy - O(P) = ∑ T ∈ STSet(P) |P|/|T|\n",
    "# |P|: len(unique item) itemset {a} =>1\n",
    "# |T|: len(Tid) 1/3 + 1/3 + 1/2 + 1/5 \n",
    "def cal_occupancy(df_occupancy_list):\n",
    "    occupancy_data = []\n",
    "    for index, row in df_occupancy_list.iterrows():\n",
    "        item = row['Items']\n",
    "        occupancy_list = row['Occupancy_list']\n",
    "        total = 0\n",
    "        for tid, length in occupancy_list:\n",
    "            total += len(item) / length\n",
    "        occupancy_data.append({'Items': item, 'Occupancy': round(total, 2)})\n",
    "    \n",
    "    df_occupancy = pd.DataFrame(occupancy_data)\n",
    "    \n",
    "    return df_occupancy"
   ]
  },
  {
   "cell_type": "code",
   "execution_count": null,
   "metadata": {},
   "outputs": [],
   "source": [
    "df_occupancy = cal_occupancy(df_occupancy_list)\n",
    "df_occupancy\n"
   ]
  },
  {
   "cell_type": "markdown",
   "metadata": {},
   "source": [
    "## 2.4 Upper-bound Occupancy"
   ]
  },
  {
   "cell_type": "code",
   "execution_count": null,
   "metadata": {},
   "outputs": [],
   "source": [
    "# ex: 'a': {'l(a)': [2, 3, 5], 'n(a)': [1, 2, 1]}\n",
    "def df_prepare_UBO(df_occupancy_list):\n",
    "    UBO_data = []\n",
    "    for index, row in df_occupancy_list.iterrows():\n",
    "        item = row['Items']\n",
    "        occupancy_list = row['Occupancy_list']\n",
    "        \n",
    "        values = [i[1] for i in occupancy_list]\n",
    "        l_item = sorted(set(values)) # get unique len(Tid) => sort ascending\n",
    "    \n",
    "        counter = Counter(values)\n",
    "        n_item = [counter[i] for i in l_item] # count unique len(Tid) in occupancy_list => same index with l_item\n",
    "        \n",
    "        UBO_data.append({'Items': item, 'l_item': l_item, 'n_item': n_item})\n",
    "    \n",
    "    df_UBO = pd.DataFrame(UBO_data)\n",
    "    return df_UBO"
   ]
  },
  {
   "cell_type": "code",
   "execution_count": null,
   "metadata": {},
   "outputs": [],
   "source": [
    "df_prepare_UBO(df_occupancy_list)"
   ]
  },
  {
   "cell_type": "code",
   "execution_count": null,
   "metadata": {},
   "outputs": [],
   "source": [
    "# calculate according to the formula: ni x lx/li\n",
    "def cal_ubo(l, n):\n",
    "    total = 0\n",
    "    for i in range(len(l)):\n",
    "        total += n[i] * l[0] / l[i]\n",
    "    return round(total, 2)"
   ]
  },
  {
   "cell_type": "code",
   "execution_count": null,
   "metadata": {},
   "outputs": [],
   "source": [
    "# summarize: ∑ni x lx/li => save to list \n",
    "def ubo_final(length, number_transaction):\n",
    "    ubo = []\n",
    "    for i in range(len(length)): \n",
    "        # ex: len = [2,3,5], num_trans = [1,2,1]\n",
    "        # i = 0 => len = [2,3,5], num_trans = [1,2,1]\n",
    "        # i = 1 => len = [3,5], num_trans = [2,1]\n",
    "        # ...\n",
    "        ubo.append(cal_ubo(length[i:], number_transaction[i:])) # save result cal_ubo for each i => get maxUBO\n",
    "    return ubo"
   ]
  },
  {
   "cell_type": "code",
   "execution_count": null,
   "metadata": {},
   "outputs": [],
   "source": [
    "# get max from summarize => save max value in UBO by key\n",
    "def calculate_maxUBO(df_UBO):\n",
    "    df_UBO['List_UBO'] = None # create new column\n",
    "    df_UBO['Max_UBO'] = None # create new column\n",
    "    for index, row in df_UBO.iterrows():\n",
    "        length = row['l_item'] #get list of len(Tid) containing unique item\n",
    "        number_transaction = row['n_item'] # count unique len(Tid) in occupancy_list\n",
    "        \n",
    "        ubo = ubo_final(length, number_transaction) # get list of UBO by i. ex: [2.73, 2.6, 1.0]\n",
    "        max_ubo = max(ubo) # max list of UBO\n",
    "        \n",
    "        df_UBO.at[index, 'List_UBO'] = ubo # save result in df\n",
    "        df_UBO.at[index, 'Max_UBO'] = max_ubo # save result in df\n",
    "        \n",
    "    return df_UBO"
   ]
  },
  {
   "cell_type": "code",
   "execution_count": null,
   "metadata": {},
   "outputs": [],
   "source": [
    "# UBO calculation methods: main function\n",
    "def cal_UBO(df_occupancy_list): \n",
    "    df_UBO = df_prepare_UBO(df_occupancy_list)    \n",
    "    df_UBO = calculate_maxUBO(df_UBO)\n",
    "    return df_UBO"
   ]
  },
  {
   "cell_type": "code",
   "execution_count": null,
   "metadata": {},
   "outputs": [],
   "source": [
    "df_UBO = cal_UBO(df_occupancy_list)\n",
    "df_UBO"
   ]
  },
  {
   "cell_type": "code",
   "execution_count": null,
   "metadata": {},
   "outputs": [],
   "source": [
    "# runtime\n",
    "def runtime():\n",
    "    start_time = time.time()\n",
    "    end_time = time.time()\n",
    "    execution_time = end_time - start_time\n",
    "    print(f\"Execution time: {execution_time} seconds\")"
   ]
  },
  {
   "cell_type": "markdown",
   "metadata": {},
   "source": [
    "## 2.5 Create Dataframe merge from Occupancy, Support, UBO"
   ]
  },
  {
   "cell_type": "code",
   "execution_count": null,
   "metadata": {},
   "outputs": [],
   "source": [
    "# the index, support, occupancy and UBO of each itemset\n",
    "def itemset_info(df_occupancy, df_support, df_UBO):\n",
    "    df_occupancy_exploded = df_occupancy.explode('Items')\n",
    "    df_support_exploded = df_support.explode('Items')\n",
    "    df_UBO_exploded = df_UBO.explode('Items')\n",
    "    merge_df = df_support_exploded[['Items', 'Support']].merge(df_occupancy_exploded[['Items', 'Occupancy']], on = \"Items\").\\\n",
    "        merge(df_UBO_exploded[['Items', 'Max_UBO']], on = \"Items\")\n",
    "    merge_df['Items'] = merge_df['Items'].apply(lambda x: [x]) \n",
    "    \n",
    "    return merge_df"
   ]
  },
  {
   "cell_type": "code",
   "execution_count": null,
   "metadata": {},
   "outputs": [],
   "source": [
    "df_itemset_info = itemset_info(df_occupancy, df_support, df_UBO)\n",
    "df_itemset_info"
   ]
  },
  {
   "cell_type": "markdown",
   "metadata": {},
   "source": [
    "## 2.6 Algorithm"
   ]
  },
  {
   "cell_type": "markdown",
   "metadata": {},
   "source": [
    "### 2.6.1 Intersection k-itemset"
   ]
  },
  {
   "cell_type": "code",
   "execution_count": null,
   "metadata": {},
   "outputs": [],
   "source": [
    "def df_intersection(items1, items2, df_occupancy_list):    \n",
    "    df = pd.DataFrame(columns=['Items', 'Occupancy_list'])\n",
    "    # set1 = set(items1)\n",
    "    # set2 = set(items2)\n",
    "    list_item = sorted(list(set(items1) | set(items2)))\n",
    "    \n",
    "    list_occupancy_item = []\n",
    "    \n",
    "    for i in list_item:\n",
    "        list_occupancy_item.append(df_occupancy_list[df_occupancy_list['Items'].apply(lambda item: i in item)][\"Occupancy_list\"].iloc[0])\n",
    "        \n",
    "    intersection_list = set(list_occupancy_item[0])\n",
    "    for sublist in list_occupancy_item[1:]:\n",
    "        intersection_list = intersection_list.intersection(sublist)\n",
    "\n",
    "    intersection_list = sorted(intersection_list, key = lambda x: x[0])\n",
    "    \n",
    "    df = df.append({'Items': list_item, 'Occupancy_list': intersection_list}, ignore_index=True)\n",
    "\n",
    "    return df"
   ]
  },
  {
   "cell_type": "markdown",
   "metadata": {},
   "source": [
    "### 2.6.2 Main Algorithm"
   ]
  },
  {
   "cell_type": "code",
   "execution_count": null,
   "metadata": {},
   "outputs": [],
   "source": [
    "def hep_algorithm(threshold, df_itemset_info, df_occupancy_list):\n",
    "    C1 = []\n",
    "    HO1 = []\n",
    "    \n",
    "    for index, row in df_itemset_info.iterrows():\n",
    "        items = row['Items'] # 1-itemset in row\n",
    "        support = row['Support'] # support of 1-itemset\n",
    "        occupancy = row['Occupancy'] # occuopancy of 1-itemset\n",
    "        max_ubo = row['Max_UBO'] # max_ubo of 1-itemset\n",
    "        \n",
    "        if support >= threshold:\n",
    "            if max_ubo >= threshold:\n",
    "                # C1.add(frozenset(items)) # candidate 1-itemset => use item for C1 to create k-itemset (k = 2, k += 1 for each loop)\n",
    "                C1.append(items)\n",
    "            if occupancy >= threshold:\n",
    "                # HO1.add(frozenset(items)) # High Occupancy 1-itemset.\n",
    "                HO1.append(items)\n",
    "\n",
    "    # return C1, HO1\n",
    "    \n",
    "    # Generate Ck and HOk\n",
    "    k = 2\n",
    "    Ck_1 = C1\n",
    "    HOk = HO1\n",
    "    \n",
    "    while Ck_1:\n",
    "        Ck = []\n",
    "        for i in range(len(Ck_1)):\n",
    "            for j in range(i+1, len(Ck_1)):\n",
    "                if len(set(Ck_1[i]) & set(Ck_1[j])) == k - 2: # # C1 = {{'a'},{'b'},{'c'},{'d'},{'e'}}\n",
    "                    try:\n",
    "                        P_occupancy_list = df_intersection(Ck_1[i], Ck_1[j], df_occupancy_list)\n",
    "                        p_items = P_occupancy_list['Items'].iloc[0]\n",
    "                        if p_items in HOk:\n",
    "                            continue\n",
    "                        p_ubo = cal_UBO(P_occupancy_list)['Max_UBO'].iloc[0]\n",
    "                        p_occupancy = cal_occupancy(P_occupancy_list)['Occupancy'].iloc[0]\n",
    "                        if p_ubo >= threshold:\n",
    "                            Ck.append(p_items)\n",
    "                            if p_occupancy >= threshold:\n",
    "                                HOk.append(p_items)\n",
    "                    except:\n",
    "                        continue\n",
    "        k += 1\n",
    "        Ck_1 = Ck\n",
    "        \n",
    "    # Return the set of all high occupancy itemsets\n",
    "    # HO_Set = HOk\n",
    "    # for itemsets in HOk:\n",
    "    #     HO_Set.append(itemsets)\n",
    "    \n",
    "    return HOk            "
   ]
  },
  {
   "cell_type": "markdown",
   "metadata": {},
   "source": [
    "## 2.7 Test Algorithm"
   ]
  },
  {
   "cell_type": "code",
   "execution_count": 31,
   "metadata": {},
   "outputs": [],
   "source": [
    "threshold = 0.09\n",
    "threshold = threshold * len_df # ex: threshold = 25% of len(database)\n",
    "start_time = time.time()\n",
    "HO_Set = hep_algorithm(threshold, df_itemset_info, df_occupancy_list)\n",
    "for i in HO_Set:\n",
    "    print(i)\n",
    "print(len(HO_Set))\n",
    "\n",
    "end_time = time.time()\n",
    "execution_time = end_time - start_time\n",
    "print(f\"Execution time: {execution_time} seconds\")"
   ]
  }
 ],
 "metadata": {
  "kernelspec": {
   "display_name": "base",
   "language": "python",
   "name": "python3"
  },
  "language_info": {
   "codemirror_mode": {
    "name": "ipython",
    "version": 3
   },
   "file_extension": ".py",
   "mimetype": "text/x-python",
   "name": "python",
   "nbconvert_exporter": "python",
   "pygments_lexer": "ipython3",
   "version": "3.9.2"
  }
 },
 "nbformat": 4,
 "nbformat_minor": 2
}
