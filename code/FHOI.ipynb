{
 "cells": [
  {
   "cell_type": "code",
   "execution_count": 1,
   "metadata": {},
   "outputs": [],
   "source": [
    "import pandas as pd\n",
    "from collections import Counter\n",
    "import time\n",
    "# from data_test import *\n",
    "# from mushroom import *\n",
    "# from retail_transaction_dataset import *\n",
    "# from fruithut.fruithut import *"
   ]
  },
  {
   "cell_type": "code",
   "execution_count": 2,
   "metadata": {},
   "outputs": [
    {
     "data": {
      "text/html": [
       "<div>\n",
       "<style scoped>\n",
       "    .dataframe tbody tr th:only-of-type {\n",
       "        vertical-align: middle;\n",
       "    }\n",
       "\n",
       "    .dataframe tbody tr th {\n",
       "        vertical-align: top;\n",
       "    }\n",
       "\n",
       "    .dataframe thead th {\n",
       "        text-align: right;\n",
       "    }\n",
       "</style>\n",
       "<table border=\"1\" class=\"dataframe\">\n",
       "  <thead>\n",
       "    <tr style=\"text-align: right;\">\n",
       "      <th></th>\n",
       "      <th>Tid</th>\n",
       "      <th>Items</th>\n",
       "      <th>Item_Length</th>\n",
       "    </tr>\n",
       "  </thead>\n",
       "  <tbody>\n",
       "    <tr>\n",
       "      <th>0</th>\n",
       "      <td>T1</td>\n",
       "      <td>[a, c, d]</td>\n",
       "      <td>3</td>\n",
       "    </tr>\n",
       "    <tr>\n",
       "      <th>1</th>\n",
       "      <td>T2</td>\n",
       "      <td>[a, b, d]</td>\n",
       "      <td>3</td>\n",
       "    </tr>\n",
       "    <tr>\n",
       "      <th>2</th>\n",
       "      <td>T3</td>\n",
       "      <td>[b, c, d, e]</td>\n",
       "      <td>4</td>\n",
       "    </tr>\n",
       "    <tr>\n",
       "      <th>3</th>\n",
       "      <td>T4</td>\n",
       "      <td>[a, d]</td>\n",
       "      <td>2</td>\n",
       "    </tr>\n",
       "    <tr>\n",
       "      <th>4</th>\n",
       "      <td>T5</td>\n",
       "      <td>[c, d, e]</td>\n",
       "      <td>3</td>\n",
       "    </tr>\n",
       "    <tr>\n",
       "      <th>5</th>\n",
       "      <td>T6</td>\n",
       "      <td>[a, b, c, d, e]</td>\n",
       "      <td>5</td>\n",
       "    </tr>\n",
       "  </tbody>\n",
       "</table>\n",
       "</div>"
      ],
      "text/plain": [
       "  Tid            Items  Item_Length\n",
       "0  T1        [a, c, d]            3\n",
       "1  T2        [a, b, d]            3\n",
       "2  T3     [b, c, d, e]            4\n",
       "3  T4           [a, d]            2\n",
       "4  T5        [c, d, e]            3\n",
       "5  T6  [a, b, c, d, e]            5"
      ]
     },
     "execution_count": 2,
     "metadata": {},
     "output_type": "execute_result"
    }
   ],
   "source": [
    "# sample\n",
    "data = {\n",
    "    'Tid': ['T1', 'T2', 'T3', 'T4', 'T5', 'T6'],\n",
    "    'Items': [['a', 'c', 'd'],\n",
    "              ['a', 'b', 'd'],\n",
    "              ['b', 'c', 'd', 'e'],\n",
    "              ['a', 'd'],\n",
    "              ['c', 'd', 'e'],\n",
    "              ['a', 'b', 'c', 'd', 'e']]\n",
    "}\n",
    "df = pd.DataFrame(data)\n",
    "\n",
    "# data = {\n",
    "#     'Tid': ['T1', 'T2', 'T3', 'T4', 'T5', 'T6'],\n",
    "#     'Items': [['apple', 'cherry', 'durian'],\n",
    "#               ['apple', 'banana', 'durian'],\n",
    "#               ['banana', 'cherry', 'durian', 'elderberry'],\n",
    "#               ['apple', 'durian'],\n",
    "#               ['cherry', 'durian', 'elderberry'],\n",
    "#               ['apple', 'banana', 'cherry', 'durian', 'elderberry']]\n",
    "# }\n",
    "\n",
    "# df = pd.DataFrame(data)\n",
    "df['Item_Length'] = df['Items'].apply(lambda items: len(items))\n",
    "len_df = len(df)\n",
    "df"
   ]
  },
  {
   "cell_type": "code",
   "execution_count": 3,
   "metadata": {},
   "outputs": [
    {
     "data": {
      "text/plain": [
       "['a', 'b', 'c', 'd', 'e']"
      ]
     },
     "execution_count": 3,
     "metadata": {},
     "output_type": "execute_result"
    }
   ],
   "source": [
    "unique_items = sorted(df['Items'].explode().unique()) # get unique item => save to list\n",
    "unique_items"
   ]
  },
  {
   "cell_type": "code",
   "execution_count": 4,
   "metadata": {},
   "outputs": [
    {
     "data": {
      "text/plain": [
       "False"
      ]
     },
     "execution_count": 4,
     "metadata": {},
     "output_type": "execute_result"
    }
   ],
   "source": [
    "length_transaction = df[\"Items\"].apply(len)\n",
    "if length_transaction.nunique() == 1:\n",
    "    hastheSameLengh = True\n",
    "else:\n",
    "    hastheSameLengh = False\n",
    "\n",
    "hastheSameLengh"
   ]
  },
  {
   "cell_type": "code",
   "execution_count": 5,
   "metadata": {},
   "outputs": [
    {
     "data": {
      "text/plain": [
       "[3, 3, 4, 2, 3, 5]"
      ]
     },
     "execution_count": 5,
     "metadata": {},
     "output_type": "execute_result"
    }
   ],
   "source": [
    "length_transaction = length_transaction.to_list()\n",
    "length_transaction"
   ]
  },
  {
   "cell_type": "code",
   "execution_count": 6,
   "metadata": {},
   "outputs": [],
   "source": [
    "# calculate stset: {'a': [T1, T2, T4, T6]} - list Tid containing unique item\n",
    "def cal_stset(df):\n",
    "    stset = {} \n",
    "    for item in unique_items:\n",
    "        tid_list = df[df['Items'].apply(lambda items: item in items)]['Tid'].tolist() # create column Items with items in unique item\n",
    "        tid_lengths = [len(df[df['Tid'] == tid]['Items'].iloc[0]) for tid in tid_list if item in df[df['Tid'] == tid]['Items'].iloc[0]]\n",
    "        stset[item] = {\"StSet\": tid_list, \"Length_transaction\": tid_lengths} # add value with item_key\n",
    "\n",
    "    df_stset = pd.DataFrame.from_dict(stset, orient = 'index').reset_index()\n",
    "    df_stset.columns = [\"Items\", \"StSet\", \"Length_transaction\"]\n",
    "    df_stset['Items'] = df_stset['Items'].apply(lambda x: [x]) \n",
    "    return df_stset"
   ]
  },
  {
   "cell_type": "code",
   "execution_count": 7,
   "metadata": {},
   "outputs": [],
   "source": [
    "# calculate support - count number of Tid containing unique item\n",
    "def cal_support(df_stset):\n",
    "    df_support = pd.DataFrame(columns=['Items', 'Support'])\n",
    "    df_support['Items'] = df_stset['Items']\n",
    "    df_support['Support'] = df_stset['StSet'].apply(len)\n",
    "    return df_support"
   ]
  },
  {
   "cell_type": "code",
   "execution_count": 8,
   "metadata": {},
   "outputs": [
    {
     "data": {
      "text/html": [
       "<div>\n",
       "<style scoped>\n",
       "    .dataframe tbody tr th:only-of-type {\n",
       "        vertical-align: middle;\n",
       "    }\n",
       "\n",
       "    .dataframe tbody tr th {\n",
       "        vertical-align: top;\n",
       "    }\n",
       "\n",
       "    .dataframe thead th {\n",
       "        text-align: right;\n",
       "    }\n",
       "</style>\n",
       "<table border=\"1\" class=\"dataframe\">\n",
       "  <thead>\n",
       "    <tr style=\"text-align: right;\">\n",
       "      <th></th>\n",
       "      <th>Items</th>\n",
       "      <th>StSet</th>\n",
       "      <th>Length_transaction</th>\n",
       "    </tr>\n",
       "  </thead>\n",
       "  <tbody>\n",
       "    <tr>\n",
       "      <th>0</th>\n",
       "      <td>[a]</td>\n",
       "      <td>[T1, T2, T4, T6]</td>\n",
       "      <td>[3, 3, 2, 5]</td>\n",
       "    </tr>\n",
       "    <tr>\n",
       "      <th>1</th>\n",
       "      <td>[b]</td>\n",
       "      <td>[T2, T3, T6]</td>\n",
       "      <td>[3, 4, 5]</td>\n",
       "    </tr>\n",
       "    <tr>\n",
       "      <th>2</th>\n",
       "      <td>[c]</td>\n",
       "      <td>[T1, T3, T5, T6]</td>\n",
       "      <td>[3, 4, 3, 5]</td>\n",
       "    </tr>\n",
       "    <tr>\n",
       "      <th>3</th>\n",
       "      <td>[d]</td>\n",
       "      <td>[T1, T2, T3, T4, T5, T6]</td>\n",
       "      <td>[3, 3, 4, 2, 3, 5]</td>\n",
       "    </tr>\n",
       "    <tr>\n",
       "      <th>4</th>\n",
       "      <td>[e]</td>\n",
       "      <td>[T3, T5, T6]</td>\n",
       "      <td>[4, 3, 5]</td>\n",
       "    </tr>\n",
       "  </tbody>\n",
       "</table>\n",
       "</div>"
      ],
      "text/plain": [
       "  Items                     StSet  Length_transaction\n",
       "0   [a]          [T1, T2, T4, T6]        [3, 3, 2, 5]\n",
       "1   [b]              [T2, T3, T6]           [3, 4, 5]\n",
       "2   [c]          [T1, T3, T5, T6]        [3, 4, 3, 5]\n",
       "3   [d]  [T1, T2, T3, T4, T5, T6]  [3, 3, 4, 2, 3, 5]\n",
       "4   [e]              [T3, T5, T6]           [4, 3, 5]"
      ]
     },
     "execution_count": 8,
     "metadata": {},
     "output_type": "execute_result"
    }
   ],
   "source": [
    "df_stset = cal_stset(df)\n",
    "df_stset"
   ]
  },
  {
   "cell_type": "code",
   "execution_count": 9,
   "metadata": {},
   "outputs": [
    {
     "data": {
      "text/html": [
       "<div>\n",
       "<style scoped>\n",
       "    .dataframe tbody tr th:only-of-type {\n",
       "        vertical-align: middle;\n",
       "    }\n",
       "\n",
       "    .dataframe tbody tr th {\n",
       "        vertical-align: top;\n",
       "    }\n",
       "\n",
       "    .dataframe thead th {\n",
       "        text-align: right;\n",
       "    }\n",
       "</style>\n",
       "<table border=\"1\" class=\"dataframe\">\n",
       "  <thead>\n",
       "    <tr style=\"text-align: right;\">\n",
       "      <th></th>\n",
       "      <th>Items</th>\n",
       "      <th>Support</th>\n",
       "    </tr>\n",
       "  </thead>\n",
       "  <tbody>\n",
       "    <tr>\n",
       "      <th>0</th>\n",
       "      <td>[a]</td>\n",
       "      <td>4</td>\n",
       "    </tr>\n",
       "    <tr>\n",
       "      <th>1</th>\n",
       "      <td>[b]</td>\n",
       "      <td>3</td>\n",
       "    </tr>\n",
       "    <tr>\n",
       "      <th>2</th>\n",
       "      <td>[c]</td>\n",
       "      <td>4</td>\n",
       "    </tr>\n",
       "    <tr>\n",
       "      <th>3</th>\n",
       "      <td>[d]</td>\n",
       "      <td>6</td>\n",
       "    </tr>\n",
       "    <tr>\n",
       "      <th>4</th>\n",
       "      <td>[e]</td>\n",
       "      <td>3</td>\n",
       "    </tr>\n",
       "  </tbody>\n",
       "</table>\n",
       "</div>"
      ],
      "text/plain": [
       "  Items  Support\n",
       "0   [a]        4\n",
       "1   [b]        3\n",
       "2   [c]        4\n",
       "3   [d]        6\n",
       "4   [e]        3"
      ]
     },
     "execution_count": 9,
     "metadata": {},
     "output_type": "execute_result"
    }
   ],
   "source": [
    "df_support = cal_support(df_stset)\n",
    "df_support"
   ]
  },
  {
   "cell_type": "code",
   "execution_count": null,
   "metadata": {},
   "outputs": [],
   "source": []
  }
 ],
 "metadata": {
  "kernelspec": {
   "display_name": "Python 3",
   "language": "python",
   "name": "python3"
  },
  "language_info": {
   "codemirror_mode": {
    "name": "ipython",
    "version": 3
   },
   "file_extension": ".py",
   "mimetype": "text/x-python",
   "name": "python",
   "nbconvert_exporter": "python",
   "pygments_lexer": "ipython3",
   "version": "3.9.2"
  }
 },
 "nbformat": 4,
 "nbformat_minor": 2
}
