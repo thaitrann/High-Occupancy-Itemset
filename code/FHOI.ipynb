{
 "cells": [
  {
   "cell_type": "code",
   "execution_count": 50,
   "metadata": {},
   "outputs": [],
   "source": [
    "import pandas as pd\n",
    "from collections import Counter\n",
    "import time\n",
    "# from data_test import *\n",
    "# from mushroom import *\n",
    "# from retail_transaction_dataset import *\n",
    "# from fruithut.fruithut import *"
   ]
  },
  {
   "cell_type": "code",
   "execution_count": 51,
   "metadata": {},
   "outputs": [
    {
     "data": {
      "text/html": [
       "<div>\n",
       "<style scoped>\n",
       "    .dataframe tbody tr th:only-of-type {\n",
       "        vertical-align: middle;\n",
       "    }\n",
       "\n",
       "    .dataframe tbody tr th {\n",
       "        vertical-align: top;\n",
       "    }\n",
       "\n",
       "    .dataframe thead th {\n",
       "        text-align: right;\n",
       "    }\n",
       "</style>\n",
       "<table border=\"1\" class=\"dataframe\">\n",
       "  <thead>\n",
       "    <tr style=\"text-align: right;\">\n",
       "      <th></th>\n",
       "      <th>Tid</th>\n",
       "      <th>Items</th>\n",
       "      <th>Item_Length</th>\n",
       "    </tr>\n",
       "  </thead>\n",
       "  <tbody>\n",
       "    <tr>\n",
       "      <th>0</th>\n",
       "      <td>T1</td>\n",
       "      <td>[a, c, d]</td>\n",
       "      <td>3</td>\n",
       "    </tr>\n",
       "    <tr>\n",
       "      <th>1</th>\n",
       "      <td>T2</td>\n",
       "      <td>[a, b, d]</td>\n",
       "      <td>3</td>\n",
       "    </tr>\n",
       "    <tr>\n",
       "      <th>2</th>\n",
       "      <td>T3</td>\n",
       "      <td>[b, c, d, e]</td>\n",
       "      <td>4</td>\n",
       "    </tr>\n",
       "    <tr>\n",
       "      <th>3</th>\n",
       "      <td>T4</td>\n",
       "      <td>[a, d]</td>\n",
       "      <td>2</td>\n",
       "    </tr>\n",
       "    <tr>\n",
       "      <th>4</th>\n",
       "      <td>T5</td>\n",
       "      <td>[c, d, e]</td>\n",
       "      <td>3</td>\n",
       "    </tr>\n",
       "    <tr>\n",
       "      <th>5</th>\n",
       "      <td>T6</td>\n",
       "      <td>[a, b, c, d, e]</td>\n",
       "      <td>5</td>\n",
       "    </tr>\n",
       "  </tbody>\n",
       "</table>\n",
       "</div>"
      ],
      "text/plain": [
       "  Tid            Items  Item_Length\n",
       "0  T1        [a, c, d]            3\n",
       "1  T2        [a, b, d]            3\n",
       "2  T3     [b, c, d, e]            4\n",
       "3  T4           [a, d]            2\n",
       "4  T5        [c, d, e]            3\n",
       "5  T6  [a, b, c, d, e]            5"
      ]
     },
     "execution_count": 51,
     "metadata": {},
     "output_type": "execute_result"
    }
   ],
   "source": [
    "# sample\n",
    "data = {\n",
    "    'Tid': ['T1', 'T2', 'T3', 'T4', 'T5', 'T6'],\n",
    "    'Items': [['a', 'c', 'd'],\n",
    "              ['a', 'b', 'd'],\n",
    "              ['b', 'c', 'd', 'e'],\n",
    "              ['a', 'd'],\n",
    "              ['c', 'd', 'e'],\n",
    "              ['a', 'b', 'c', 'd', 'e']]\n",
    "}\n",
    "df = pd.DataFrame(data)\n",
    "\n",
    "# data = {\n",
    "#     'Tid': ['T1', 'T2', 'T3', 'T4', 'T5', 'T6'],\n",
    "#     'Items': [['apple', 'cherry', 'durian'],\n",
    "#               ['apple', 'banana', 'durian'],\n",
    "#               ['banana', 'cherry', 'durian', 'elderberry'],\n",
    "#               ['apple', 'durian'],\n",
    "#               ['cherry', 'durian', 'elderberry'],\n",
    "#               ['apple', 'banana', 'cherry', 'durian', 'elderberry']]\n",
    "# }\n",
    "\n",
    "# df = pd.DataFrame(data)\n",
    "df['Item_Length'] = df['Items'].apply(lambda items: len(items))\n",
    "len_df = len(df)\n",
    "df"
   ]
  },
  {
   "cell_type": "code",
   "execution_count": 52,
   "metadata": {},
   "outputs": [
    {
     "data": {
      "text/plain": [
       "['a', 'b', 'c', 'd', 'e']"
      ]
     },
     "execution_count": 52,
     "metadata": {},
     "output_type": "execute_result"
    }
   ],
   "source": [
    "unique_items = sorted(df['Items'].explode().unique()) # get unique item => save to list\n",
    "unique_items"
   ]
  },
  {
   "cell_type": "code",
   "execution_count": 53,
   "metadata": {},
   "outputs": [
    {
     "data": {
      "text/plain": [
       "False"
      ]
     },
     "execution_count": 53,
     "metadata": {},
     "output_type": "execute_result"
    }
   ],
   "source": [
    "length_transaction = df[\"Items\"].apply(len)\n",
    "if length_transaction.nunique() == 1:\n",
    "    hastheSameLengh = True\n",
    "else:\n",
    "    hastheSameLengh = False\n",
    "\n",
    "hastheSameLengh"
   ]
  },
  {
   "cell_type": "code",
   "execution_count": 54,
   "metadata": {},
   "outputs": [
    {
     "data": {
      "text/plain": [
       "[3, 3, 4, 2, 3, 5]"
      ]
     },
     "execution_count": 54,
     "metadata": {},
     "output_type": "execute_result"
    }
   ],
   "source": [
    "length_transaction = length_transaction.to_list()\n",
    "length_transaction"
   ]
  },
  {
   "cell_type": "code",
   "execution_count": 55,
   "metadata": {},
   "outputs": [],
   "source": [
    "# calculate stset: {'a': [T1, T2, T4, T6]} - list Tid containing unique item\n",
    "def cal_stset(df):\n",
    "    stset = {} \n",
    "    for item in unique_items:\n",
    "        tid_list = df[df['Items'].apply(lambda items: item in items)]['Tid'].tolist() # create column Items with items in unique item\n",
    "        tid_lengths = [len(df[df['Tid'] == tid]['Items'].iloc[0]) for tid in tid_list if item in df[df['Tid'] == tid]['Items'].iloc[0]]\n",
    "        stset[item] = {\"StSet\": tid_list, \"Length_transaction\": tid_lengths} # add value with item_key\n",
    "\n",
    "    df_stset = pd.DataFrame.from_dict(stset, orient = 'index').reset_index()\n",
    "    df_stset.columns = [\"Items\", \"StSet\", \"Length_transaction\"]\n",
    "    df_stset['Items'] = df_stset['Items'].apply(lambda x: [x]) \n",
    "    return df_stset"
   ]
  },
  {
   "cell_type": "code",
   "execution_count": 56,
   "metadata": {},
   "outputs": [],
   "source": [
    "# calculate support - count number of Tid containing unique item\n",
    "def cal_support(df_stset):\n",
    "    df_stset['Support'] = df_stset['StSet'].apply(len)\n",
    "    return df_stset"
   ]
  },
  {
   "cell_type": "code",
   "execution_count": 57,
   "metadata": {},
   "outputs": [
    {
     "data": {
      "text/html": [
       "<div>\n",
       "<style scoped>\n",
       "    .dataframe tbody tr th:only-of-type {\n",
       "        vertical-align: middle;\n",
       "    }\n",
       "\n",
       "    .dataframe tbody tr th {\n",
       "        vertical-align: top;\n",
       "    }\n",
       "\n",
       "    .dataframe thead th {\n",
       "        text-align: right;\n",
       "    }\n",
       "</style>\n",
       "<table border=\"1\" class=\"dataframe\">\n",
       "  <thead>\n",
       "    <tr style=\"text-align: right;\">\n",
       "      <th></th>\n",
       "      <th>Items</th>\n",
       "      <th>StSet</th>\n",
       "      <th>Length_transaction</th>\n",
       "    </tr>\n",
       "  </thead>\n",
       "  <tbody>\n",
       "    <tr>\n",
       "      <th>0</th>\n",
       "      <td>[a]</td>\n",
       "      <td>[T1, T2, T4, T6]</td>\n",
       "      <td>[3, 3, 2, 5]</td>\n",
       "    </tr>\n",
       "    <tr>\n",
       "      <th>1</th>\n",
       "      <td>[b]</td>\n",
       "      <td>[T2, T3, T6]</td>\n",
       "      <td>[3, 4, 5]</td>\n",
       "    </tr>\n",
       "    <tr>\n",
       "      <th>2</th>\n",
       "      <td>[c]</td>\n",
       "      <td>[T1, T3, T5, T6]</td>\n",
       "      <td>[3, 4, 3, 5]</td>\n",
       "    </tr>\n",
       "    <tr>\n",
       "      <th>3</th>\n",
       "      <td>[d]</td>\n",
       "      <td>[T1, T2, T3, T4, T5, T6]</td>\n",
       "      <td>[3, 3, 4, 2, 3, 5]</td>\n",
       "    </tr>\n",
       "    <tr>\n",
       "      <th>4</th>\n",
       "      <td>[e]</td>\n",
       "      <td>[T3, T5, T6]</td>\n",
       "      <td>[4, 3, 5]</td>\n",
       "    </tr>\n",
       "  </tbody>\n",
       "</table>\n",
       "</div>"
      ],
      "text/plain": [
       "  Items                     StSet  Length_transaction\n",
       "0   [a]          [T1, T2, T4, T6]        [3, 3, 2, 5]\n",
       "1   [b]              [T2, T3, T6]           [3, 4, 5]\n",
       "2   [c]          [T1, T3, T5, T6]        [3, 4, 3, 5]\n",
       "3   [d]  [T1, T2, T3, T4, T5, T6]  [3, 3, 4, 2, 3, 5]\n",
       "4   [e]              [T3, T5, T6]           [4, 3, 5]"
      ]
     },
     "execution_count": 57,
     "metadata": {},
     "output_type": "execute_result"
    }
   ],
   "source": [
    "df_stset = cal_stset(df)\n",
    "df_stset"
   ]
  },
  {
   "cell_type": "code",
   "execution_count": 58,
   "metadata": {},
   "outputs": [
    {
     "data": {
      "text/html": [
       "<div>\n",
       "<style scoped>\n",
       "    .dataframe tbody tr th:only-of-type {\n",
       "        vertical-align: middle;\n",
       "    }\n",
       "\n",
       "    .dataframe tbody tr th {\n",
       "        vertical-align: top;\n",
       "    }\n",
       "\n",
       "    .dataframe thead th {\n",
       "        text-align: right;\n",
       "    }\n",
       "</style>\n",
       "<table border=\"1\" class=\"dataframe\">\n",
       "  <thead>\n",
       "    <tr style=\"text-align: right;\">\n",
       "      <th></th>\n",
       "      <th>Items</th>\n",
       "      <th>StSet</th>\n",
       "      <th>Length_transaction</th>\n",
       "      <th>Support</th>\n",
       "    </tr>\n",
       "  </thead>\n",
       "  <tbody>\n",
       "    <tr>\n",
       "      <th>0</th>\n",
       "      <td>[a]</td>\n",
       "      <td>[T1, T2, T4, T6]</td>\n",
       "      <td>[3, 3, 2, 5]</td>\n",
       "      <td>4</td>\n",
       "    </tr>\n",
       "    <tr>\n",
       "      <th>1</th>\n",
       "      <td>[b]</td>\n",
       "      <td>[T2, T3, T6]</td>\n",
       "      <td>[3, 4, 5]</td>\n",
       "      <td>3</td>\n",
       "    </tr>\n",
       "    <tr>\n",
       "      <th>2</th>\n",
       "      <td>[c]</td>\n",
       "      <td>[T1, T3, T5, T6]</td>\n",
       "      <td>[3, 4, 3, 5]</td>\n",
       "      <td>4</td>\n",
       "    </tr>\n",
       "    <tr>\n",
       "      <th>3</th>\n",
       "      <td>[d]</td>\n",
       "      <td>[T1, T2, T3, T4, T5, T6]</td>\n",
       "      <td>[3, 3, 4, 2, 3, 5]</td>\n",
       "      <td>6</td>\n",
       "    </tr>\n",
       "    <tr>\n",
       "      <th>4</th>\n",
       "      <td>[e]</td>\n",
       "      <td>[T3, T5, T6]</td>\n",
       "      <td>[4, 3, 5]</td>\n",
       "      <td>3</td>\n",
       "    </tr>\n",
       "  </tbody>\n",
       "</table>\n",
       "</div>"
      ],
      "text/plain": [
       "  Items                     StSet  Length_transaction  Support\n",
       "0   [a]          [T1, T2, T4, T6]        [3, 3, 2, 5]        4\n",
       "1   [b]              [T2, T3, T6]           [3, 4, 5]        3\n",
       "2   [c]          [T1, T3, T5, T6]        [3, 4, 3, 5]        4\n",
       "3   [d]  [T1, T2, T3, T4, T5, T6]  [3, 3, 4, 2, 3, 5]        6\n",
       "4   [e]              [T3, T5, T6]           [4, 3, 5]        3"
      ]
     },
     "execution_count": 58,
     "metadata": {},
     "output_type": "execute_result"
    }
   ],
   "source": [
    "df_stset = cal_support(df_stset)\n",
    "df_stset"
   ]
  },
  {
   "cell_type": "code",
   "execution_count": 59,
   "metadata": {},
   "outputs": [],
   "source": [
    "# ex: 'a': {'l(a)': [2, 3, 5], 'n(a)': [1, 2, 1]}\n",
    "def df_prepare_UBO(df_stset):\n",
    "    l_item_list = []\n",
    "    n_item_list = []\n",
    "    for index, row in df_stset.iterrows():\n",
    "        item = row['Items']\n",
    "        length_transaction = row['Length_transaction']\n",
    "\n",
    "        l_item = sorted(set(length_transaction)) # get unique len(Tid) => sort ascending\n",
    "\n",
    "        counter = Counter(length_transaction)\n",
    "        n_item = [counter[i] for i in l_item] # count unique len(Tid) in occupancy_list => same index with l_item\n",
    "        \n",
    "        l_item_list.append(l_item)\n",
    "        n_item_list.append(n_item)\n",
    "    \n",
    "    df_stset = df_stset.assign(l_item=l_item_list, n_item=n_item_list)\n",
    "    return df_stset"
   ]
  },
  {
   "cell_type": "code",
   "execution_count": 60,
   "metadata": {},
   "outputs": [],
   "source": [
    "# calculate occupancy - O(P) = ∑ T ∈ STSet(P) |P|/|T|\n",
    "# |P|: len(unique item) itemset {a} =>1\n",
    "# |T|: len(Tid) 1/3 + 1/3 + 1/2 + 1/5 \n",
    "def cal_occupancy(df_stset):\n",
    "    occupancy_data = []\n",
    "    for index, row in df_stset.iterrows():\n",
    "        item = row['Items']\n",
    "        length_transaction = row['Length_transaction']\n",
    "        total = 0\n",
    "        for length in length_transaction:\n",
    "            total += len(item) / length\n",
    "        occupancy_data.append({'Items': item, 'Occupancy': round(total, 2)})\n",
    "    \n",
    "    df_occupancy = pd.DataFrame(occupancy_data)\n",
    "    df_stset['Occupancy'] = df_occupancy['Occupancy']\n",
    "    return df_stset"
   ]
  },
  {
   "cell_type": "code",
   "execution_count": 61,
   "metadata": {},
   "outputs": [
    {
     "data": {
      "text/html": [
       "<div>\n",
       "<style scoped>\n",
       "    .dataframe tbody tr th:only-of-type {\n",
       "        vertical-align: middle;\n",
       "    }\n",
       "\n",
       "    .dataframe tbody tr th {\n",
       "        vertical-align: top;\n",
       "    }\n",
       "\n",
       "    .dataframe thead th {\n",
       "        text-align: right;\n",
       "    }\n",
       "</style>\n",
       "<table border=\"1\" class=\"dataframe\">\n",
       "  <thead>\n",
       "    <tr style=\"text-align: right;\">\n",
       "      <th></th>\n",
       "      <th>Items</th>\n",
       "      <th>StSet</th>\n",
       "      <th>Length_transaction</th>\n",
       "      <th>Support</th>\n",
       "      <th>Occupancy</th>\n",
       "    </tr>\n",
       "  </thead>\n",
       "  <tbody>\n",
       "    <tr>\n",
       "      <th>0</th>\n",
       "      <td>[a]</td>\n",
       "      <td>[T1, T2, T4, T6]</td>\n",
       "      <td>[3, 3, 2, 5]</td>\n",
       "      <td>4</td>\n",
       "      <td>1.37</td>\n",
       "    </tr>\n",
       "    <tr>\n",
       "      <th>1</th>\n",
       "      <td>[b]</td>\n",
       "      <td>[T2, T3, T6]</td>\n",
       "      <td>[3, 4, 5]</td>\n",
       "      <td>3</td>\n",
       "      <td>0.78</td>\n",
       "    </tr>\n",
       "    <tr>\n",
       "      <th>2</th>\n",
       "      <td>[c]</td>\n",
       "      <td>[T1, T3, T5, T6]</td>\n",
       "      <td>[3, 4, 3, 5]</td>\n",
       "      <td>4</td>\n",
       "      <td>1.12</td>\n",
       "    </tr>\n",
       "    <tr>\n",
       "      <th>3</th>\n",
       "      <td>[d]</td>\n",
       "      <td>[T1, T2, T3, T4, T5, T6]</td>\n",
       "      <td>[3, 3, 4, 2, 3, 5]</td>\n",
       "      <td>6</td>\n",
       "      <td>1.95</td>\n",
       "    </tr>\n",
       "    <tr>\n",
       "      <th>4</th>\n",
       "      <td>[e]</td>\n",
       "      <td>[T3, T5, T6]</td>\n",
       "      <td>[4, 3, 5]</td>\n",
       "      <td>3</td>\n",
       "      <td>0.78</td>\n",
       "    </tr>\n",
       "  </tbody>\n",
       "</table>\n",
       "</div>"
      ],
      "text/plain": [
       "  Items                     StSet  Length_transaction  Support  Occupancy\n",
       "0   [a]          [T1, T2, T4, T6]        [3, 3, 2, 5]        4       1.37\n",
       "1   [b]              [T2, T3, T6]           [3, 4, 5]        3       0.78\n",
       "2   [c]          [T1, T3, T5, T6]        [3, 4, 3, 5]        4       1.12\n",
       "3   [d]  [T1, T2, T3, T4, T5, T6]  [3, 3, 4, 2, 3, 5]        6       1.95\n",
       "4   [e]              [T3, T5, T6]           [4, 3, 5]        3       0.78"
      ]
     },
     "execution_count": 61,
     "metadata": {},
     "output_type": "execute_result"
    }
   ],
   "source": [
    "df_stset = cal_occupancy(df_stset)\n",
    "df_stset"
   ]
  },
  {
   "cell_type": "code",
   "execution_count": 62,
   "metadata": {},
   "outputs": [],
   "source": [
    "# calculate according to the formula: ni x lx/li\n",
    "def cal_ubo(l, n):\n",
    "    total = 0\n",
    "    for i in range(len(l)):\n",
    "        total += n[i] * l[0] / l[i]\n",
    "    return round(total, 2)"
   ]
  },
  {
   "cell_type": "code",
   "execution_count": 63,
   "metadata": {},
   "outputs": [],
   "source": [
    "# summarize: ∑ni x lx/li => save to list \n",
    "def ubo_final(length, number_transaction):\n",
    "    ubo = []\n",
    "    for i in range(len(length)): \n",
    "        # ex: len = [2,3,5], num_trans = [1,2,1]\n",
    "        # i = 0 => len = [2,3,5], num_trans = [1,2,1]\n",
    "        # i = 1 => len = [3,5], num_trans = [2,1]\n",
    "        # ...\n",
    "        ubo.append(cal_ubo(length[i:], number_transaction[i:])) # save result cal_ubo for each i => get maxUBO\n",
    "    return ubo"
   ]
  },
  {
   "cell_type": "code",
   "execution_count": 64,
   "metadata": {},
   "outputs": [],
   "source": [
    "# get max from summarize => save max value in UBO by key\n",
    "def calculate_maxUBO(df_UBO):\n",
    "    df_UBO['List_UBO'] = None # create new column\n",
    "    df_UBO['Max_UBO'] = None # create new column\n",
    "    for index, row in df_UBO.iterrows():\n",
    "        length = row['l_item'] #get list of len(Tid) containing unique item\n",
    "        number_transaction = row['n_item'] # count unique len(Tid) in occupancy_list\n",
    "        \n",
    "        ubo = ubo_final(length, number_transaction) # get list of UBO by i. ex: [2.73, 2.6, 1.0]\n",
    "        max_ubo = max(ubo) # max list of UBO\n",
    "        \n",
    "        df_UBO.at[index, 'List_UBO'] = ubo # save result in df\n",
    "        df_UBO.at[index, 'Max_UBO'] = max_ubo # save result in df\n",
    "        \n",
    "    return df_UBO"
   ]
  },
  {
   "cell_type": "code",
   "execution_count": 71,
   "metadata": {},
   "outputs": [],
   "source": [
    "# UBO calculation methods: main function\n",
    "def cal_UBO(df_stset): \n",
    "    df_stset = df_prepare_UBO(df_stset)    \n",
    "    df_stset = calculate_maxUBO(df_stset)\n",
    "    return df_stset"
   ]
  },
  {
   "cell_type": "code",
   "execution_count": 72,
   "metadata": {},
   "outputs": [
    {
     "data": {
      "text/html": [
       "<div>\n",
       "<style scoped>\n",
       "    .dataframe tbody tr th:only-of-type {\n",
       "        vertical-align: middle;\n",
       "    }\n",
       "\n",
       "    .dataframe tbody tr th {\n",
       "        vertical-align: top;\n",
       "    }\n",
       "\n",
       "    .dataframe thead th {\n",
       "        text-align: right;\n",
       "    }\n",
       "</style>\n",
       "<table border=\"1\" class=\"dataframe\">\n",
       "  <thead>\n",
       "    <tr style=\"text-align: right;\">\n",
       "      <th></th>\n",
       "      <th>Items</th>\n",
       "      <th>StSet</th>\n",
       "      <th>Length_transaction</th>\n",
       "      <th>Support</th>\n",
       "      <th>Occupancy</th>\n",
       "      <th>l_item</th>\n",
       "      <th>n_item</th>\n",
       "      <th>List_UBO</th>\n",
       "      <th>Max_UBO</th>\n",
       "    </tr>\n",
       "  </thead>\n",
       "  <tbody>\n",
       "    <tr>\n",
       "      <th>0</th>\n",
       "      <td>[a]</td>\n",
       "      <td>[T1, T2, T4, T6]</td>\n",
       "      <td>[3, 3, 2, 5]</td>\n",
       "      <td>4</td>\n",
       "      <td>1.37</td>\n",
       "      <td>[2, 3, 5]</td>\n",
       "      <td>[1, 2, 1]</td>\n",
       "      <td>[2.73, 2.6, 1.0]</td>\n",
       "      <td>2.73</td>\n",
       "    </tr>\n",
       "    <tr>\n",
       "      <th>1</th>\n",
       "      <td>[b]</td>\n",
       "      <td>[T2, T3, T6]</td>\n",
       "      <td>[3, 4, 5]</td>\n",
       "      <td>3</td>\n",
       "      <td>0.78</td>\n",
       "      <td>[3, 4, 5]</td>\n",
       "      <td>[1, 1, 1]</td>\n",
       "      <td>[2.35, 1.8, 1.0]</td>\n",
       "      <td>2.35</td>\n",
       "    </tr>\n",
       "    <tr>\n",
       "      <th>2</th>\n",
       "      <td>[c]</td>\n",
       "      <td>[T1, T3, T5, T6]</td>\n",
       "      <td>[3, 4, 3, 5]</td>\n",
       "      <td>4</td>\n",
       "      <td>1.12</td>\n",
       "      <td>[3, 4, 5]</td>\n",
       "      <td>[2, 1, 1]</td>\n",
       "      <td>[3.35, 1.8, 1.0]</td>\n",
       "      <td>3.35</td>\n",
       "    </tr>\n",
       "    <tr>\n",
       "      <th>3</th>\n",
       "      <td>[d]</td>\n",
       "      <td>[T1, T2, T3, T4, T5, T6]</td>\n",
       "      <td>[3, 3, 4, 2, 3, 5]</td>\n",
       "      <td>6</td>\n",
       "      <td>1.95</td>\n",
       "      <td>[2, 3, 4, 5]</td>\n",
       "      <td>[1, 3, 1, 1]</td>\n",
       "      <td>[3.9, 4.35, 1.8, 1.0]</td>\n",
       "      <td>4.35</td>\n",
       "    </tr>\n",
       "    <tr>\n",
       "      <th>4</th>\n",
       "      <td>[e]</td>\n",
       "      <td>[T3, T5, T6]</td>\n",
       "      <td>[4, 3, 5]</td>\n",
       "      <td>3</td>\n",
       "      <td>0.78</td>\n",
       "      <td>[3, 4, 5]</td>\n",
       "      <td>[1, 1, 1]</td>\n",
       "      <td>[2.35, 1.8, 1.0]</td>\n",
       "      <td>2.35</td>\n",
       "    </tr>\n",
       "  </tbody>\n",
       "</table>\n",
       "</div>"
      ],
      "text/plain": [
       "  Items                     StSet  Length_transaction  Support  Occupancy  \\\n",
       "0   [a]          [T1, T2, T4, T6]        [3, 3, 2, 5]        4       1.37   \n",
       "1   [b]              [T2, T3, T6]           [3, 4, 5]        3       0.78   \n",
       "2   [c]          [T1, T3, T5, T6]        [3, 4, 3, 5]        4       1.12   \n",
       "3   [d]  [T1, T2, T3, T4, T5, T6]  [3, 3, 4, 2, 3, 5]        6       1.95   \n",
       "4   [e]              [T3, T5, T6]           [4, 3, 5]        3       0.78   \n",
       "\n",
       "         l_item        n_item               List_UBO Max_UBO  \n",
       "0     [2, 3, 5]     [1, 2, 1]       [2.73, 2.6, 1.0]    2.73  \n",
       "1     [3, 4, 5]     [1, 1, 1]       [2.35, 1.8, 1.0]    2.35  \n",
       "2     [3, 4, 5]     [2, 1, 1]       [3.35, 1.8, 1.0]    3.35  \n",
       "3  [2, 3, 4, 5]  [1, 3, 1, 1]  [3.9, 4.35, 1.8, 1.0]    4.35  \n",
       "4     [3, 4, 5]     [1, 1, 1]       [2.35, 1.8, 1.0]    2.35  "
      ]
     },
     "execution_count": 72,
     "metadata": {},
     "output_type": "execute_result"
    }
   ],
   "source": [
    "df_stset = cal_UBO(df_stset)\n",
    "df_stset"
   ]
  },
  {
   "cell_type": "code",
   "execution_count": 79,
   "metadata": {},
   "outputs": [],
   "source": [
    "def mine_hoi_1itemset(threshold, len_df, hastheSameLengh, df_stset):\n",
    "    C1 = []\n",
    "    HOI1 = []\n",
    "    threshold = threshold * len_df # ex: threshold = 25% of len(database)\n",
    "    for index, row in df_stset.iterrows():\n",
    "        item = row['Items'] # 1-itemset in row\n",
    "        support = row['Support'] # support of 1-itemset\n",
    "        occupancy = row['Occupancy'] # occuopancy of 1-itemset\n",
    "        max_ubo = row['Max_UBO'] # max_ubo of 1-itemset\n",
    "        \n",
    "        if support >= threshold:\n",
    "            if hastheSameLengh is False:\n",
    "                if max_ubo >= threshold:\n",
    "                    C1.append(item)\n",
    "                    if occupancy >= threshold:\n",
    "                        HOI1.append(item)\n",
    "            else:\n",
    "                C1.append(item)\n",
    "                if occupancy >= threshold:\n",
    "                    HOI1.append(item)\n",
    "    \n",
    "    return C1, HOI1"
   ]
  },
  {
   "cell_type": "code",
   "execution_count": 81,
   "metadata": {},
   "outputs": [
    {
     "name": "stdout",
     "output_type": "stream",
     "text": [
      "[['a'], ['b'], ['c'], ['d'], ['e']]\n",
      "[['d']]\n",
      "Execution time: 0.0020055770874023438 seconds\n"
     ]
    }
   ],
   "source": [
    "HOIS = []\n",
    "C1 = []\n",
    "HOI1 = []\n",
    "threshold = 0.25\n",
    "\n",
    "start_time = time.time()\n",
    "\n",
    "C1, HOI1 = mine_hoi_1itemset(threshold, len_df, hastheSameLengh, df_stset)\n",
    "print(C1)\n",
    "print(HOI1)\n",
    "\n",
    "end_time = time.time()\n",
    "execution_time = end_time - start_time\n",
    "print(f\"Execution time: {execution_time} seconds\")\n"
   ]
  },
  {
   "cell_type": "code",
   "execution_count": 78,
   "metadata": {},
   "outputs": [
    {
     "name": "stdout",
     "output_type": "stream",
     "text": [
      "true\n"
     ]
    }
   ],
   "source": [
    "l1 = [1,1,2,3,4]\n",
    "l2 = [1,2,2,2,4,5]\n",
    "\n",
    "l1_set = set(l1)\n",
    "l2_set = set(l2)\n",
    "a = sorted(list(l1_set & l2_set))\n",
    "if hastheSameLengh is False:\n",
    "    print(\"true\")\n"
   ]
  }
 ],
 "metadata": {
  "kernelspec": {
   "display_name": "Python 3",
   "language": "python",
   "name": "python3"
  },
  "language_info": {
   "codemirror_mode": {
    "name": "ipython",
    "version": 3
   },
   "file_extension": ".py",
   "mimetype": "text/x-python",
   "name": "python",
   "nbconvert_exporter": "python",
   "pygments_lexer": "ipython3",
   "version": "3.9.2"
  }
 },
 "nbformat": 4,
 "nbformat_minor": 2
}
