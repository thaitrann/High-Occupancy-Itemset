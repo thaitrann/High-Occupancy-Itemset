{
 "cells": [
  {
   "cell_type": "code",
   "execution_count": 4,
   "metadata": {},
   "outputs": [],
   "source": [
    "import pandas as pd\n",
    "from collections import Counter\n",
    "import time\n",
    "# from data_test import *\n",
    "# from mushroom import *\n",
    "# from retail_transaction_dataset import *\n",
    "# from fruithut.fruithut import *"
   ]
  },
  {
   "cell_type": "code",
   "execution_count": 5,
   "metadata": {},
   "outputs": [
    {
     "data": {
      "text/html": [
       "<div>\n",
       "<style scoped>\n",
       "    .dataframe tbody tr th:only-of-type {\n",
       "        vertical-align: middle;\n",
       "    }\n",
       "\n",
       "    .dataframe tbody tr th {\n",
       "        vertical-align: top;\n",
       "    }\n",
       "\n",
       "    .dataframe thead th {\n",
       "        text-align: right;\n",
       "    }\n",
       "</style>\n",
       "<table border=\"1\" class=\"dataframe\">\n",
       "  <thead>\n",
       "    <tr style=\"text-align: right;\">\n",
       "      <th></th>\n",
       "      <th>Tid</th>\n",
       "      <th>Items</th>\n",
       "      <th>Item_Length</th>\n",
       "    </tr>\n",
       "  </thead>\n",
       "  <tbody>\n",
       "    <tr>\n",
       "      <th>0</th>\n",
       "      <td>T1</td>\n",
       "      <td>[a, c, d]</td>\n",
       "      <td>3</td>\n",
       "    </tr>\n",
       "    <tr>\n",
       "      <th>1</th>\n",
       "      <td>T2</td>\n",
       "      <td>[a, b, d]</td>\n",
       "      <td>3</td>\n",
       "    </tr>\n",
       "    <tr>\n",
       "      <th>2</th>\n",
       "      <td>T3</td>\n",
       "      <td>[b, c, d, e]</td>\n",
       "      <td>4</td>\n",
       "    </tr>\n",
       "    <tr>\n",
       "      <th>3</th>\n",
       "      <td>T4</td>\n",
       "      <td>[a, d]</td>\n",
       "      <td>2</td>\n",
       "    </tr>\n",
       "    <tr>\n",
       "      <th>4</th>\n",
       "      <td>T5</td>\n",
       "      <td>[c, d, e]</td>\n",
       "      <td>3</td>\n",
       "    </tr>\n",
       "    <tr>\n",
       "      <th>5</th>\n",
       "      <td>T6</td>\n",
       "      <td>[a, b, c, d, e]</td>\n",
       "      <td>5</td>\n",
       "    </tr>\n",
       "  </tbody>\n",
       "</table>\n",
       "</div>"
      ],
      "text/plain": [
       "  Tid            Items  Item_Length\n",
       "0  T1        [a, c, d]            3\n",
       "1  T2        [a, b, d]            3\n",
       "2  T3     [b, c, d, e]            4\n",
       "3  T4           [a, d]            2\n",
       "4  T5        [c, d, e]            3\n",
       "5  T6  [a, b, c, d, e]            5"
      ]
     },
     "execution_count": 5,
     "metadata": {},
     "output_type": "execute_result"
    }
   ],
   "source": [
    "# sample\n",
    "data = {\n",
    "    'Tid': ['T1', 'T2', 'T3', 'T4', 'T5', 'T6'],\n",
    "    'Items': [['a', 'c', 'd'],\n",
    "              ['a', 'b', 'd'],\n",
    "              ['b', 'c', 'd', 'e'],\n",
    "              ['a', 'd'],\n",
    "              ['c', 'd', 'e'],\n",
    "              ['a', 'b', 'c', 'd', 'e']]\n",
    "}\n",
    "df = pd.DataFrame(data)\n",
    "\n",
    "# data = {\n",
    "#     'Tid': ['T1', 'T2', 'T3', 'T4', 'T5', 'T6'],\n",
    "#     'Items': [['apple', 'cherry', 'durian'],\n",
    "#               ['apple', 'banana', 'durian'],\n",
    "#               ['banana', 'cherry', 'durian', 'elderberry'],\n",
    "#               ['apple', 'durian'],\n",
    "#               ['cherry', 'durian', 'elderberry'],\n",
    "#               ['apple', 'banana', 'cherry', 'durian', 'elderberry']]\n",
    "# }\n",
    "\n",
    "# df = pd.DataFrame(data)\n",
    "df['Item_Length'] = df['Items'].apply(lambda items: len(items))\n",
    "len_df = len(df)\n",
    "df"
   ]
  },
  {
   "cell_type": "code",
   "execution_count": 6,
   "metadata": {},
   "outputs": [
    {
     "data": {
      "text/plain": [
       "['a', 'b', 'c', 'd', 'e']"
      ]
     },
     "execution_count": 6,
     "metadata": {},
     "output_type": "execute_result"
    }
   ],
   "source": [
    "unique_items = sorted(df['Items'].explode().unique()) # get unique item => save to list\n",
    "unique_items"
   ]
  },
  {
   "cell_type": "code",
   "execution_count": 7,
   "metadata": {},
   "outputs": [
    {
     "data": {
      "text/plain": [
       "False"
      ]
     },
     "execution_count": 7,
     "metadata": {},
     "output_type": "execute_result"
    }
   ],
   "source": [
    "length_transaction = df[\"Items\"].apply(len)\n",
    "if length_transaction.nunique() == 1:\n",
    "    hastheSameLengh = True\n",
    "else:\n",
    "    hastheSameLengh = False\n",
    "\n",
    "hastheSameLengh"
   ]
  },
  {
   "cell_type": "code",
   "execution_count": 8,
   "metadata": {},
   "outputs": [
    {
     "data": {
      "text/plain": [
       "[3, 3, 4, 2, 3, 5]"
      ]
     },
     "execution_count": 8,
     "metadata": {},
     "output_type": "execute_result"
    }
   ],
   "source": [
    "length_transaction = length_transaction.to_list()\n",
    "length_transaction"
   ]
  },
  {
   "cell_type": "code",
   "execution_count": 9,
   "metadata": {},
   "outputs": [],
   "source": [
    "# calculate stset: {'a': [T1, T2, T4, T6]} - list Tid containing unique item\n",
    "def cal_stset(df):\n",
    "    stset = {} \n",
    "    for item in unique_items:\n",
    "        tid_list = df[df['Items'].apply(lambda items: item in items)]['Tid'].tolist() # create column Items with items in unique item\n",
    "        tid_lengths = [len(df[df['Tid'] == tid]['Items'].iloc[0]) for tid in tid_list if item in df[df['Tid'] == tid]['Items'].iloc[0]]\n",
    "        stset[item] = {\"StSet\": tid_list, \"Length_transaction\": tid_lengths} # add value with item_key\n",
    "\n",
    "    df_stset = pd.DataFrame.from_dict(stset, orient = 'index').reset_index()\n",
    "    df_stset.columns = [\"Items\", \"StSet\", \"Length_transaction\"]\n",
    "    df_stset['Items'] = df_stset['Items'].apply(lambda x: [x]) \n",
    "    return df_stset"
   ]
  },
  {
   "cell_type": "code",
   "execution_count": 10,
   "metadata": {},
   "outputs": [],
   "source": [
    "# calculate support - count number of Tid containing unique item\n",
    "def cal_support(df_stset):\n",
    "    df_stset['Support'] = df_stset['StSet'].apply(len)\n",
    "    return df_stset"
   ]
  },
  {
   "cell_type": "code",
   "execution_count": 11,
   "metadata": {},
   "outputs": [
    {
     "data": {
      "text/html": [
       "<div>\n",
       "<style scoped>\n",
       "    .dataframe tbody tr th:only-of-type {\n",
       "        vertical-align: middle;\n",
       "    }\n",
       "\n",
       "    .dataframe tbody tr th {\n",
       "        vertical-align: top;\n",
       "    }\n",
       "\n",
       "    .dataframe thead th {\n",
       "        text-align: right;\n",
       "    }\n",
       "</style>\n",
       "<table border=\"1\" class=\"dataframe\">\n",
       "  <thead>\n",
       "    <tr style=\"text-align: right;\">\n",
       "      <th></th>\n",
       "      <th>Items</th>\n",
       "      <th>StSet</th>\n",
       "      <th>Length_transaction</th>\n",
       "    </tr>\n",
       "  </thead>\n",
       "  <tbody>\n",
       "    <tr>\n",
       "      <th>0</th>\n",
       "      <td>[a]</td>\n",
       "      <td>[T1, T2, T4, T6]</td>\n",
       "      <td>[3, 3, 2, 5]</td>\n",
       "    </tr>\n",
       "    <tr>\n",
       "      <th>1</th>\n",
       "      <td>[b]</td>\n",
       "      <td>[T2, T3, T6]</td>\n",
       "      <td>[3, 4, 5]</td>\n",
       "    </tr>\n",
       "    <tr>\n",
       "      <th>2</th>\n",
       "      <td>[c]</td>\n",
       "      <td>[T1, T3, T5, T6]</td>\n",
       "      <td>[3, 4, 3, 5]</td>\n",
       "    </tr>\n",
       "    <tr>\n",
       "      <th>3</th>\n",
       "      <td>[d]</td>\n",
       "      <td>[T1, T2, T3, T4, T5, T6]</td>\n",
       "      <td>[3, 3, 4, 2, 3, 5]</td>\n",
       "    </tr>\n",
       "    <tr>\n",
       "      <th>4</th>\n",
       "      <td>[e]</td>\n",
       "      <td>[T3, T5, T6]</td>\n",
       "      <td>[4, 3, 5]</td>\n",
       "    </tr>\n",
       "  </tbody>\n",
       "</table>\n",
       "</div>"
      ],
      "text/plain": [
       "  Items                     StSet  Length_transaction\n",
       "0   [a]          [T1, T2, T4, T6]        [3, 3, 2, 5]\n",
       "1   [b]              [T2, T3, T6]           [3, 4, 5]\n",
       "2   [c]          [T1, T3, T5, T6]        [3, 4, 3, 5]\n",
       "3   [d]  [T1, T2, T3, T4, T5, T6]  [3, 3, 4, 2, 3, 5]\n",
       "4   [e]              [T3, T5, T6]           [4, 3, 5]"
      ]
     },
     "execution_count": 11,
     "metadata": {},
     "output_type": "execute_result"
    }
   ],
   "source": [
    "df_stset = cal_stset(df)\n",
    "df_stset"
   ]
  },
  {
   "cell_type": "code",
   "execution_count": 12,
   "metadata": {},
   "outputs": [
    {
     "data": {
      "text/html": [
       "<div>\n",
       "<style scoped>\n",
       "    .dataframe tbody tr th:only-of-type {\n",
       "        vertical-align: middle;\n",
       "    }\n",
       "\n",
       "    .dataframe tbody tr th {\n",
       "        vertical-align: top;\n",
       "    }\n",
       "\n",
       "    .dataframe thead th {\n",
       "        text-align: right;\n",
       "    }\n",
       "</style>\n",
       "<table border=\"1\" class=\"dataframe\">\n",
       "  <thead>\n",
       "    <tr style=\"text-align: right;\">\n",
       "      <th></th>\n",
       "      <th>Items</th>\n",
       "      <th>StSet</th>\n",
       "      <th>Length_transaction</th>\n",
       "      <th>Support</th>\n",
       "    </tr>\n",
       "  </thead>\n",
       "  <tbody>\n",
       "    <tr>\n",
       "      <th>0</th>\n",
       "      <td>[a]</td>\n",
       "      <td>[T1, T2, T4, T6]</td>\n",
       "      <td>[3, 3, 2, 5]</td>\n",
       "      <td>4</td>\n",
       "    </tr>\n",
       "    <tr>\n",
       "      <th>1</th>\n",
       "      <td>[b]</td>\n",
       "      <td>[T2, T3, T6]</td>\n",
       "      <td>[3, 4, 5]</td>\n",
       "      <td>3</td>\n",
       "    </tr>\n",
       "    <tr>\n",
       "      <th>2</th>\n",
       "      <td>[c]</td>\n",
       "      <td>[T1, T3, T5, T6]</td>\n",
       "      <td>[3, 4, 3, 5]</td>\n",
       "      <td>4</td>\n",
       "    </tr>\n",
       "    <tr>\n",
       "      <th>3</th>\n",
       "      <td>[d]</td>\n",
       "      <td>[T1, T2, T3, T4, T5, T6]</td>\n",
       "      <td>[3, 3, 4, 2, 3, 5]</td>\n",
       "      <td>6</td>\n",
       "    </tr>\n",
       "    <tr>\n",
       "      <th>4</th>\n",
       "      <td>[e]</td>\n",
       "      <td>[T3, T5, T6]</td>\n",
       "      <td>[4, 3, 5]</td>\n",
       "      <td>3</td>\n",
       "    </tr>\n",
       "  </tbody>\n",
       "</table>\n",
       "</div>"
      ],
      "text/plain": [
       "  Items                     StSet  Length_transaction  Support\n",
       "0   [a]          [T1, T2, T4, T6]        [3, 3, 2, 5]        4\n",
       "1   [b]              [T2, T3, T6]           [3, 4, 5]        3\n",
       "2   [c]          [T1, T3, T5, T6]        [3, 4, 3, 5]        4\n",
       "3   [d]  [T1, T2, T3, T4, T5, T6]  [3, 3, 4, 2, 3, 5]        6\n",
       "4   [e]              [T3, T5, T6]           [4, 3, 5]        3"
      ]
     },
     "execution_count": 12,
     "metadata": {},
     "output_type": "execute_result"
    }
   ],
   "source": [
    "df_stset = cal_support(df_stset)\n",
    "df_stset"
   ]
  },
  {
   "cell_type": "code",
   "execution_count": 13,
   "metadata": {},
   "outputs": [],
   "source": [
    "# ex: 'a': {'l(a)': [2, 3, 5], 'n(a)': [1, 2, 1]}\n",
    "def df_prepare_UBO(df_stset):\n",
    "    l_item_list = []\n",
    "    n_item_list = []\n",
    "    for index, row in df_stset.iterrows():\n",
    "        item = row['Items']\n",
    "        length_transaction = row['Length_transaction']\n",
    "\n",
    "        l_item = sorted(set(length_transaction)) # get unique len(Tid) => sort ascending\n",
    "\n",
    "        counter = Counter(length_transaction)\n",
    "        n_item = [counter[i] for i in l_item] # count unique len(Tid) in occupancy_list => same index with l_item\n",
    "        \n",
    "        l_item_list.append(l_item)\n",
    "        n_item_list.append(n_item)\n",
    "    \n",
    "    df_stset = df_stset.assign(l_item=l_item_list, n_item=n_item_list)\n",
    "    return df_stset"
   ]
  },
  {
   "cell_type": "code",
   "execution_count": 14,
   "metadata": {},
   "outputs": [],
   "source": [
    "# calculate occupancy - O(P) = ∑ T ∈ STSet(P) |P|/|T|\n",
    "# |P|: len(unique item) itemset {a} =>1\n",
    "# |T|: len(Tid) 1/3 + 1/3 + 1/2 + 1/5 \n",
    "def cal_occupancy(df_stset):\n",
    "    occupancy_data = []\n",
    "    for index, row in df_stset.iterrows():\n",
    "        item = row['Items']\n",
    "        length_transaction = row['Length_transaction']\n",
    "        total = 0\n",
    "        for length in length_transaction:\n",
    "            total += len(item) / length\n",
    "        occupancy_data.append({'Items': item, 'Occupancy': round(total, 2)})\n",
    "    \n",
    "    df_occupancy = pd.DataFrame(occupancy_data)\n",
    "    df_stset['Occupancy'] = df_occupancy['Occupancy']\n",
    "    return df_stset"
   ]
  },
  {
   "cell_type": "code",
   "execution_count": 15,
   "metadata": {},
   "outputs": [
    {
     "data": {
      "text/html": [
       "<div>\n",
       "<style scoped>\n",
       "    .dataframe tbody tr th:only-of-type {\n",
       "        vertical-align: middle;\n",
       "    }\n",
       "\n",
       "    .dataframe tbody tr th {\n",
       "        vertical-align: top;\n",
       "    }\n",
       "\n",
       "    .dataframe thead th {\n",
       "        text-align: right;\n",
       "    }\n",
       "</style>\n",
       "<table border=\"1\" class=\"dataframe\">\n",
       "  <thead>\n",
       "    <tr style=\"text-align: right;\">\n",
       "      <th></th>\n",
       "      <th>Items</th>\n",
       "      <th>StSet</th>\n",
       "      <th>Length_transaction</th>\n",
       "      <th>Support</th>\n",
       "      <th>Occupancy</th>\n",
       "    </tr>\n",
       "  </thead>\n",
       "  <tbody>\n",
       "    <tr>\n",
       "      <th>0</th>\n",
       "      <td>[a]</td>\n",
       "      <td>[T1, T2, T4, T6]</td>\n",
       "      <td>[3, 3, 2, 5]</td>\n",
       "      <td>4</td>\n",
       "      <td>1.37</td>\n",
       "    </tr>\n",
       "    <tr>\n",
       "      <th>1</th>\n",
       "      <td>[b]</td>\n",
       "      <td>[T2, T3, T6]</td>\n",
       "      <td>[3, 4, 5]</td>\n",
       "      <td>3</td>\n",
       "      <td>0.78</td>\n",
       "    </tr>\n",
       "    <tr>\n",
       "      <th>2</th>\n",
       "      <td>[c]</td>\n",
       "      <td>[T1, T3, T5, T6]</td>\n",
       "      <td>[3, 4, 3, 5]</td>\n",
       "      <td>4</td>\n",
       "      <td>1.12</td>\n",
       "    </tr>\n",
       "    <tr>\n",
       "      <th>3</th>\n",
       "      <td>[d]</td>\n",
       "      <td>[T1, T2, T3, T4, T5, T6]</td>\n",
       "      <td>[3, 3, 4, 2, 3, 5]</td>\n",
       "      <td>6</td>\n",
       "      <td>1.95</td>\n",
       "    </tr>\n",
       "    <tr>\n",
       "      <th>4</th>\n",
       "      <td>[e]</td>\n",
       "      <td>[T3, T5, T6]</td>\n",
       "      <td>[4, 3, 5]</td>\n",
       "      <td>3</td>\n",
       "      <td>0.78</td>\n",
       "    </tr>\n",
       "  </tbody>\n",
       "</table>\n",
       "</div>"
      ],
      "text/plain": [
       "  Items                     StSet  Length_transaction  Support  Occupancy\n",
       "0   [a]          [T1, T2, T4, T6]        [3, 3, 2, 5]        4       1.37\n",
       "1   [b]              [T2, T3, T6]           [3, 4, 5]        3       0.78\n",
       "2   [c]          [T1, T3, T5, T6]        [3, 4, 3, 5]        4       1.12\n",
       "3   [d]  [T1, T2, T3, T4, T5, T6]  [3, 3, 4, 2, 3, 5]        6       1.95\n",
       "4   [e]              [T3, T5, T6]           [4, 3, 5]        3       0.78"
      ]
     },
     "execution_count": 15,
     "metadata": {},
     "output_type": "execute_result"
    }
   ],
   "source": [
    "df_stset = cal_occupancy(df_stset)\n",
    "df_stset"
   ]
  },
  {
   "cell_type": "code",
   "execution_count": 16,
   "metadata": {},
   "outputs": [],
   "source": [
    "# calculate according to the formula: ni x lx/li\n",
    "def cal_ubo(l, n):\n",
    "    total = 0\n",
    "    for i in range(len(l)):\n",
    "        total += n[i] * l[0] / l[i]\n",
    "    return round(total, 2)"
   ]
  },
  {
   "cell_type": "code",
   "execution_count": 17,
   "metadata": {},
   "outputs": [],
   "source": [
    "# summarize: ∑ni x lx/li => save to list \n",
    "def ubo_final(length, number_transaction):\n",
    "    ubo = []\n",
    "    for i in range(len(length)): \n",
    "        # ex: len = [2,3,5], num_trans = [1,2,1]\n",
    "        # i = 0 => len = [2,3,5], num_trans = [1,2,1]\n",
    "        # i = 1 => len = [3,5], num_trans = [2,1]\n",
    "        # ...\n",
    "        ubo.append(cal_ubo(length[i:], number_transaction[i:])) # save result cal_ubo for each i => get maxUBO\n",
    "    return ubo"
   ]
  },
  {
   "cell_type": "code",
   "execution_count": 18,
   "metadata": {},
   "outputs": [],
   "source": [
    "# get max from summarize => save max value in UBO by key\n",
    "def calculate_maxUBO(df_UBO):\n",
    "    df_UBO['List_UBO'] = None # create new column\n",
    "    df_UBO['Max_UBO'] = None # create new column\n",
    "    for index, row in df_UBO.iterrows():\n",
    "        length = row['l_item'] #get list of len(Tid) containing unique item\n",
    "        number_transaction = row['n_item'] # count unique len(Tid) in occupancy_list\n",
    "        \n",
    "        ubo = ubo_final(length, number_transaction) # get list of UBO by i. ex: [2.73, 2.6, 1.0]\n",
    "        max_ubo = max(ubo) # max list of UBO\n",
    "        \n",
    "        df_UBO.at[index, 'List_UBO'] = ubo # save result in df\n",
    "        df_UBO.at[index, 'Max_UBO'] = max_ubo # save result in df\n",
    "        \n",
    "    return df_UBO"
   ]
  },
  {
   "cell_type": "code",
   "execution_count": 19,
   "metadata": {},
   "outputs": [],
   "source": [
    "# UBO calculation methods: main function\n",
    "def cal_UBO(df_stset): \n",
    "    df_stset = df_prepare_UBO(df_stset)    \n",
    "    df_stset = calculate_maxUBO(df_stset)\n",
    "    return df_stset"
   ]
  },
  {
   "cell_type": "code",
   "execution_count": 20,
   "metadata": {},
   "outputs": [
    {
     "data": {
      "text/html": [
       "<div>\n",
       "<style scoped>\n",
       "    .dataframe tbody tr th:only-of-type {\n",
       "        vertical-align: middle;\n",
       "    }\n",
       "\n",
       "    .dataframe tbody tr th {\n",
       "        vertical-align: top;\n",
       "    }\n",
       "\n",
       "    .dataframe thead th {\n",
       "        text-align: right;\n",
       "    }\n",
       "</style>\n",
       "<table border=\"1\" class=\"dataframe\">\n",
       "  <thead>\n",
       "    <tr style=\"text-align: right;\">\n",
       "      <th></th>\n",
       "      <th>Items</th>\n",
       "      <th>StSet</th>\n",
       "      <th>Length_transaction</th>\n",
       "      <th>Support</th>\n",
       "      <th>Occupancy</th>\n",
       "      <th>l_item</th>\n",
       "      <th>n_item</th>\n",
       "      <th>List_UBO</th>\n",
       "      <th>Max_UBO</th>\n",
       "    </tr>\n",
       "  </thead>\n",
       "  <tbody>\n",
       "    <tr>\n",
       "      <th>0</th>\n",
       "      <td>[a]</td>\n",
       "      <td>[T1, T2, T4, T6]</td>\n",
       "      <td>[3, 3, 2, 5]</td>\n",
       "      <td>4</td>\n",
       "      <td>1.37</td>\n",
       "      <td>[2, 3, 5]</td>\n",
       "      <td>[1, 2, 1]</td>\n",
       "      <td>[2.73, 2.6, 1.0]</td>\n",
       "      <td>2.73</td>\n",
       "    </tr>\n",
       "    <tr>\n",
       "      <th>1</th>\n",
       "      <td>[b]</td>\n",
       "      <td>[T2, T3, T6]</td>\n",
       "      <td>[3, 4, 5]</td>\n",
       "      <td>3</td>\n",
       "      <td>0.78</td>\n",
       "      <td>[3, 4, 5]</td>\n",
       "      <td>[1, 1, 1]</td>\n",
       "      <td>[2.35, 1.8, 1.0]</td>\n",
       "      <td>2.35</td>\n",
       "    </tr>\n",
       "    <tr>\n",
       "      <th>2</th>\n",
       "      <td>[c]</td>\n",
       "      <td>[T1, T3, T5, T6]</td>\n",
       "      <td>[3, 4, 3, 5]</td>\n",
       "      <td>4</td>\n",
       "      <td>1.12</td>\n",
       "      <td>[3, 4, 5]</td>\n",
       "      <td>[2, 1, 1]</td>\n",
       "      <td>[3.35, 1.8, 1.0]</td>\n",
       "      <td>3.35</td>\n",
       "    </tr>\n",
       "    <tr>\n",
       "      <th>3</th>\n",
       "      <td>[d]</td>\n",
       "      <td>[T1, T2, T3, T4, T5, T6]</td>\n",
       "      <td>[3, 3, 4, 2, 3, 5]</td>\n",
       "      <td>6</td>\n",
       "      <td>1.95</td>\n",
       "      <td>[2, 3, 4, 5]</td>\n",
       "      <td>[1, 3, 1, 1]</td>\n",
       "      <td>[3.9, 4.35, 1.8, 1.0]</td>\n",
       "      <td>4.35</td>\n",
       "    </tr>\n",
       "    <tr>\n",
       "      <th>4</th>\n",
       "      <td>[e]</td>\n",
       "      <td>[T3, T5, T6]</td>\n",
       "      <td>[4, 3, 5]</td>\n",
       "      <td>3</td>\n",
       "      <td>0.78</td>\n",
       "      <td>[3, 4, 5]</td>\n",
       "      <td>[1, 1, 1]</td>\n",
       "      <td>[2.35, 1.8, 1.0]</td>\n",
       "      <td>2.35</td>\n",
       "    </tr>\n",
       "  </tbody>\n",
       "</table>\n",
       "</div>"
      ],
      "text/plain": [
       "  Items                     StSet  Length_transaction  Support  Occupancy  \\\n",
       "0   [a]          [T1, T2, T4, T6]        [3, 3, 2, 5]        4       1.37   \n",
       "1   [b]              [T2, T3, T6]           [3, 4, 5]        3       0.78   \n",
       "2   [c]          [T1, T3, T5, T6]        [3, 4, 3, 5]        4       1.12   \n",
       "3   [d]  [T1, T2, T3, T4, T5, T6]  [3, 3, 4, 2, 3, 5]        6       1.95   \n",
       "4   [e]              [T3, T5, T6]           [4, 3, 5]        3       0.78   \n",
       "\n",
       "         l_item        n_item               List_UBO Max_UBO  \n",
       "0     [2, 3, 5]     [1, 2, 1]       [2.73, 2.6, 1.0]    2.73  \n",
       "1     [3, 4, 5]     [1, 1, 1]       [2.35, 1.8, 1.0]    2.35  \n",
       "2     [3, 4, 5]     [2, 1, 1]       [3.35, 1.8, 1.0]    3.35  \n",
       "3  [2, 3, 4, 5]  [1, 3, 1, 1]  [3.9, 4.35, 1.8, 1.0]    4.35  \n",
       "4     [3, 4, 5]     [1, 1, 1]       [2.35, 1.8, 1.0]    2.35  "
      ]
     },
     "execution_count": 20,
     "metadata": {},
     "output_type": "execute_result"
    }
   ],
   "source": [
    "df_stset = cal_UBO(df_stset)\n",
    "df_stset"
   ]
  },
  {
   "cell_type": "code",
   "execution_count": 21,
   "metadata": {},
   "outputs": [],
   "source": [
    "def mine_hoi_1_itemset(threshold, hastheSameLengh, df_stset):\n",
    "    C1 = []\n",
    "    HOI1 = []\n",
    "    for index, row in df_stset.iterrows():\n",
    "        item = row['Items'] # 1-itemset in row\n",
    "        support = row['Support'] # support of 1-itemset\n",
    "        occupancy = row['Occupancy'] # occuopancy of 1-itemset\n",
    "        max_ubo = row['Max_UBO'] # max_ubo of 1-itemset\n",
    "        \n",
    "        if support >= threshold:\n",
    "            if hastheSameLengh is False:\n",
    "                if max_ubo >= threshold:\n",
    "                    C1.append(item)\n",
    "                    if occupancy >= threshold:\n",
    "                        HOI1.append(item)\n",
    "            else:\n",
    "                C1.append(item)\n",
    "                if occupancy >= threshold:\n",
    "                    HOI1.append(item)\n",
    "    \n",
    "    return C1, HOI1"
   ]
  },
  {
   "cell_type": "code",
   "execution_count": 22,
   "metadata": {},
   "outputs": [],
   "source": [
    "def df_intersection(items1, items2, df_stset):    \n",
    "    df_intersection = pd.DataFrame(columns=['Items', 'StSet'])\n",
    "    # set1 = set(items1)\n",
    "    # set2 = set(items2)\n",
    "    list_item = sorted(list(set(items1) | set(items2)))\n",
    "    \n",
    "    list_occupancy_item = []\n",
    "    \n",
    "    for i in list_item:\n",
    "        list_occupancy_item.append(df_stset[df_stset['Items'].apply(lambda item: i in item)][\"StSet\"].iloc[0])\n",
    "        \n",
    "    intersection_list = set(list_occupancy_item[0])\n",
    "    for sublist in list_occupancy_item[1:]:\n",
    "        intersection_list = intersection_list.intersection(sublist)\n",
    "\n",
    "    intersection_list = sorted(intersection_list, key = lambda x: x[0])\n",
    "    \n",
    "    df_intersection = df_intersection.append({'Items': list_item, 'StSet': intersection_list}, ignore_index=True)\n",
    "    df_intersection['Length_transaction'] = df_intersection['StSet'].apply(lambda x: [len(df[df['Tid'] == tid]['Items'].iloc[0]) for tid in x])\n",
    "    return df_intersection"
   ]
  },
  {
   "cell_type": "code",
   "execution_count": 23,
   "metadata": {},
   "outputs": [
    {
     "data": {
      "text/html": [
       "<div>\n",
       "<style scoped>\n",
       "    .dataframe tbody tr th:only-of-type {\n",
       "        vertical-align: middle;\n",
       "    }\n",
       "\n",
       "    .dataframe tbody tr th {\n",
       "        vertical-align: top;\n",
       "    }\n",
       "\n",
       "    .dataframe thead th {\n",
       "        text-align: right;\n",
       "    }\n",
       "</style>\n",
       "<table border=\"1\" class=\"dataframe\">\n",
       "  <thead>\n",
       "    <tr style=\"text-align: right;\">\n",
       "      <th></th>\n",
       "      <th>Items</th>\n",
       "      <th>StSet</th>\n",
       "      <th>Length_transaction</th>\n",
       "    </tr>\n",
       "  </thead>\n",
       "  <tbody>\n",
       "    <tr>\n",
       "      <th>0</th>\n",
       "      <td>[a, b]</td>\n",
       "      <td>[T6, T2]</td>\n",
       "      <td>[5, 3]</td>\n",
       "    </tr>\n",
       "  </tbody>\n",
       "</table>\n",
       "</div>"
      ],
      "text/plain": [
       "    Items     StSet Length_transaction\n",
       "0  [a, b]  [T6, T2]             [5, 3]"
      ]
     },
     "execution_count": 23,
     "metadata": {},
     "output_type": "execute_result"
    }
   ],
   "source": [
    "test1 = ['a']\n",
    "test2 = ['b']\n",
    "df_intersection(test1, test2, df_stset)"
   ]
  },
  {
   "cell_type": "code",
   "execution_count": 24,
   "metadata": {},
   "outputs": [],
   "source": [
    "def is_same_equivalence_class(P1, P2):\n",
    "    if len(P1) == len(P2):\n",
    "        if len(P1) == 1:\n",
    "            if P1 == P2:\n",
    "                return False\n",
    "            else:\n",
    "                return True\n",
    "        else:\n",
    "            if P1 == P2:\n",
    "                return False\n",
    "            else:\n",
    "                new_P1 = P1[:-1]\n",
    "                new_P2 = P2[:-1]\n",
    "                if new_P1 == new_P2:\n",
    "                    return True\n",
    "                else:\n",
    "                    return False\n",
    "    else:\n",
    "        return False\n",
    "        # else:\n",
    "        #     intersection_P1_P2 = sorted(list(set(P1) & set(P2)))\n",
    "        #     print(intersection_P1_P2)\n",
    "        #     if len(intersection_P1_P2) == len(P1) - 1:\n",
    "        #         for element in intersection_P1_P2:\n",
    "        #             if P1.index(element) != P2.index(element):\n",
    "        #                 return False\n",
    "        #         return True\n",
    "        #     else:\n",
    "        #         return False"
   ]
  },
  {
   "cell_type": "code",
   "execution_count": 25,
   "metadata": {},
   "outputs": [
    {
     "name": "stdout",
     "output_type": "stream",
     "text": [
      "True\n"
     ]
    }
   ],
   "source": [
    "test1 = ['a']\n",
    "test2 = ['b']\n",
    "print(is_same_equivalence_class(test1, test2))"
   ]
  },
  {
   "cell_type": "code",
   "execution_count": 26,
   "metadata": {},
   "outputs": [],
   "source": [
    "def cal_occupancy_candidate(items):    \n",
    "    df_candidate = pd.DataFrame(columns=['Items', 'StSet'])\n",
    "    \n",
    "    list_stset_item = []\n",
    "    \n",
    "    for i in items:\n",
    "        list_stset_item.append(df_stset[df_stset['Items'].apply(lambda item: i in item)][\"StSet\"].iloc[0])\n",
    "        \n",
    "    intersection_list = set(list_stset_item[0])\n",
    "    for sublist in list_stset_item[1:]:\n",
    "        intersection_list = intersection_list.intersection(sublist)\n",
    "    \n",
    "    intersection_list = sorted(intersection_list, key = lambda x: x[0])\n",
    "    \n",
    "    df_candidate = df_candidate.append({'Items': items, 'StSet': intersection_list}, ignore_index=True)\n",
    "    df_candidate['Length_transaction'] = df_candidate['StSet'].apply(lambda x: [len(df[df['Tid'] == tid]['Items'].iloc[0]) for tid in x])\n",
    "    df_candidate = cal_occupancy(df_candidate)\n",
    "    return df_candidate\n",
    "    "
   ]
  },
  {
   "cell_type": "code",
   "execution_count": 27,
   "metadata": {},
   "outputs": [
    {
     "name": "stdout",
     "output_type": "stream",
     "text": [
      "1.6\n"
     ]
    }
   ],
   "source": [
    "test = ['a','b','d']\n",
    "df_test = cal_occupancy_candidate(test)['Occupancy'].iloc[0]\n",
    "print(df_test)"
   ]
  },
  {
   "cell_type": "code",
   "execution_count": 28,
   "metadata": {},
   "outputs": [],
   "source": [
    "def mine_hoi_k_itemset(threshold, hastheSameLengh, CK_minus_1, df_stset):\n",
    "    CK = []\n",
    "    HOIK = []\n",
    "    \n",
    "    while len(CK_minus_1) > 0:\n",
    "        P1 = sorted(CK_minus_1[0])\n",
    "        for P2 in CK_minus_1:\n",
    "            sorted(P2)\n",
    "            if is_same_equivalence_class(P1, P2):\n",
    "                P = df_intersection(P1, P2, df_stset)\n",
    "                P_items = P['Items'].iloc[0]\n",
    "                P_stset = P['StSet'].iloc[0]\n",
    "                if len(P_stset) >= threshold:\n",
    "                    if hastheSameLengh is False:\n",
    "                        P_ubo = cal_UBO(P)['Max_UBO'].iloc[0]\n",
    "                        if P_ubo >= threshold:\n",
    "                            CK.append(P_items)\n",
    "                    else:\n",
    "                        CK.append(P_items)\n",
    "                        \n",
    "        CK_minus_1.pop(0)\n",
    "    \n",
    "    for i in CK:\n",
    "        if cal_occupancy_candidate(i)['Occupancy'].iloc[0] >= threshold:\n",
    "            HOIK.append(i)\n",
    "    \n",
    "    return CK, HOIK\n",
    "        \n",
    "                        \n",
    "    "
   ]
  },
  {
   "cell_type": "code",
   "execution_count": 29,
   "metadata": {},
   "outputs": [
    {
     "name": "stdout",
     "output_type": "stream",
     "text": [
      "[['a', 'd'], ['b', 'd'], ['c', 'd'], ['c', 'e'], ['d', 'e']]\n",
      "[['a', 'b', 'd'], ['a', 'c', 'd'], ['c', 'd', 'e']]\n",
      "[['b', 'c', 'd', 'e']]\n",
      "[]\n",
      "['d']\n",
      "Execution time: 0.3664286136627197 seconds\n"
     ]
    }
   ],
   "source": [
    "#test FHOI\n",
    "HOIS = []\n",
    "C1 = []\n",
    "HOI1 = []\n",
    "CK_minus_1 = []\n",
    "\n",
    "k = 2 # loop to create 2-itemset\n",
    "threshold = 0.25 \n",
    "threshold = threshold * len_df # ex: threshold = 25% of len(database)\n",
    "start_time = time.time()\n",
    "\n",
    "#create candidate 1 and HOI1 itemset\n",
    "C1, HOI1 = mine_hoi_1_itemset(threshold, hastheSameLengh, df_stset)\n",
    "\n",
    "HOIS = HOI1\n",
    "CK_minus_1 = C1\n",
    "\n",
    "while CK_minus_1:\n",
    "    CK, HOIK = mine_hoi_k_itemset(threshold, hastheSameLengh, CK_minus_1, df_stset)\n",
    "    print(HOIK)\n",
    "    # HOIS.append(HOIK)\n",
    "    CK_minus_1 = CK\n",
    "    k += 1\n",
    "\n",
    "for i in HOIS:\n",
    "    print(i)\n",
    "\n",
    "end_time = time.time()\n",
    "execution_time = end_time - start_time\n",
    "print(f\"Execution time: {execution_time} seconds\")\n",
    "\n",
    "#update try except\n"
   ]
  },
  {
   "cell_type": "code",
   "execution_count": 32,
   "metadata": {},
   "outputs": [],
   "source": [
    "def mine_depth_hois(threshold, hastheSameLengh, C1, df_stset):\n",
    "    HOIS = []\n",
    "    for i in range(len(C1)):\n",
    "        P1 = C1[i]\n",
    "        C_l = []\n",
    "        for j in range(i + 1, len(C1)):\n",
    "            P2 = C1[j]\n",
    "            P = df_intersection(P1, P2, df_stset)\n",
    "            P_items = P['Items'].iloc[0]\n",
    "            P_stset = P['StSet'].iloc[0]\n",
    "            if len(P_stset) >= threshold:\n",
    "                if hastheSameLengh is False:\n",
    "                    P_ubo = cal_UBO(P)['Max_UBO'].iloc[0]\n",
    "                    if P_ubo >= threshold:\n",
    "                        C_l.append(P_items)\n",
    "                else:\n",
    "                    C_l.append(P_items)\n",
    "        HOIS.extend(mine_depth_hois(threshold, hastheSameLengh, C_l, df_stset))\n",
    "        \n",
    "        for i in C_l:\n",
    "            if cal_occupancy_candidate(i)['Occupancy'].iloc[0] >= threshold:\n",
    "                HOIS.append(i)\n",
    "    \n",
    "    return HOIS\n",
    "        \n",
    "                        "
   ]
  },
  {
   "cell_type": "code",
   "execution_count": 33,
   "metadata": {},
   "outputs": [
    {
     "ename": "KeyboardInterrupt",
     "evalue": "",
     "output_type": "error",
     "traceback": [
      "\u001b[1;31m---------------------------------------------------------------------------\u001b[0m",
      "\u001b[1;31mKeyboardInterrupt\u001b[0m                         Traceback (most recent call last)",
      "Cell \u001b[1;32mIn[33], line 18\u001b[0m\n\u001b[0;32m     15\u001b[0m HOIS \u001b[38;5;241m=\u001b[39m HOI1\n\u001b[0;32m     17\u001b[0m \u001b[38;5;28;01mwhile\u001b[39;00m C1:\n\u001b[1;32m---> 18\u001b[0m     HOIS\u001b[38;5;241m.\u001b[39mappend(\u001b[43mmine_depth_hois\u001b[49m\u001b[43m(\u001b[49m\u001b[43mthreshold\u001b[49m\u001b[43m,\u001b[49m\u001b[43m \u001b[49m\u001b[43mhastheSameLengh\u001b[49m\u001b[43m,\u001b[49m\u001b[43m \u001b[49m\u001b[43mC1\u001b[49m\u001b[43m,\u001b[49m\u001b[43m \u001b[49m\u001b[43mdf_stset\u001b[49m\u001b[43m)\u001b[49m)\n\u001b[0;32m     20\u001b[0m \u001b[38;5;28;01mfor\u001b[39;00m i \u001b[38;5;129;01min\u001b[39;00m HOIS:\n\u001b[0;32m     21\u001b[0m     \u001b[38;5;28mprint\u001b[39m(i)\n",
      "Cell \u001b[1;32mIn[32], line 18\u001b[0m, in \u001b[0;36mmine_depth_hois\u001b[1;34m(threshold, hastheSameLengh, C1, df_stset)\u001b[0m\n\u001b[0;32m     16\u001b[0m         \u001b[38;5;28;01melse\u001b[39;00m:\n\u001b[0;32m     17\u001b[0m             C_l\u001b[38;5;241m.\u001b[39mappend(P_items)\n\u001b[1;32m---> 18\u001b[0m HOIS\u001b[38;5;241m.\u001b[39mextend(\u001b[43mmine_depth_hois\u001b[49m\u001b[43m(\u001b[49m\u001b[43mthreshold\u001b[49m\u001b[43m,\u001b[49m\u001b[43m \u001b[49m\u001b[43mhastheSameLengh\u001b[49m\u001b[43m,\u001b[49m\u001b[43m \u001b[49m\u001b[43mC_l\u001b[49m\u001b[43m,\u001b[49m\u001b[43m \u001b[49m\u001b[43mdf_stset\u001b[49m\u001b[43m)\u001b[49m)\n\u001b[0;32m     20\u001b[0m \u001b[38;5;28;01mfor\u001b[39;00m i \u001b[38;5;129;01min\u001b[39;00m C_l:\n\u001b[0;32m     21\u001b[0m     \u001b[38;5;28;01mif\u001b[39;00m cal_occupancy_candidate(i)[\u001b[38;5;124m'\u001b[39m\u001b[38;5;124mOccupancy\u001b[39m\u001b[38;5;124m'\u001b[39m]\u001b[38;5;241m.\u001b[39miloc[\u001b[38;5;241m0\u001b[39m] \u001b[38;5;241m>\u001b[39m\u001b[38;5;241m=\u001b[39m threshold:\n",
      "Cell \u001b[1;32mIn[32], line 8\u001b[0m, in \u001b[0;36mmine_depth_hois\u001b[1;34m(threshold, hastheSameLengh, C1, df_stset)\u001b[0m\n\u001b[0;32m      6\u001b[0m \u001b[38;5;28;01mfor\u001b[39;00m j \u001b[38;5;129;01min\u001b[39;00m \u001b[38;5;28mrange\u001b[39m(i \u001b[38;5;241m+\u001b[39m \u001b[38;5;241m1\u001b[39m, \u001b[38;5;28mlen\u001b[39m(C1)):\n\u001b[0;32m      7\u001b[0m     P2 \u001b[38;5;241m=\u001b[39m C1[j]\n\u001b[1;32m----> 8\u001b[0m     P \u001b[38;5;241m=\u001b[39m \u001b[43mdf_intersection\u001b[49m\u001b[43m(\u001b[49m\u001b[43mP1\u001b[49m\u001b[43m,\u001b[49m\u001b[43m \u001b[49m\u001b[43mP2\u001b[49m\u001b[43m,\u001b[49m\u001b[43m \u001b[49m\u001b[43mdf_stset\u001b[49m\u001b[43m)\u001b[49m\n\u001b[0;32m      9\u001b[0m     P_items \u001b[38;5;241m=\u001b[39m P[\u001b[38;5;124m'\u001b[39m\u001b[38;5;124mItems\u001b[39m\u001b[38;5;124m'\u001b[39m]\u001b[38;5;241m.\u001b[39miloc[\u001b[38;5;241m0\u001b[39m]\n\u001b[0;32m     10\u001b[0m     P_stset \u001b[38;5;241m=\u001b[39m P[\u001b[38;5;124m'\u001b[39m\u001b[38;5;124mStSet\u001b[39m\u001b[38;5;124m'\u001b[39m]\u001b[38;5;241m.\u001b[39miloc[\u001b[38;5;241m0\u001b[39m]\n",
      "Cell \u001b[1;32mIn[22], line 10\u001b[0m, in \u001b[0;36mdf_intersection\u001b[1;34m(items1, items2, df_stset)\u001b[0m\n\u001b[0;32m      7\u001b[0m list_occupancy_item \u001b[38;5;241m=\u001b[39m []\n\u001b[0;32m      9\u001b[0m \u001b[38;5;28;01mfor\u001b[39;00m i \u001b[38;5;129;01min\u001b[39;00m list_item:\n\u001b[1;32m---> 10\u001b[0m     list_occupancy_item\u001b[38;5;241m.\u001b[39mappend(\u001b[43mdf_stset\u001b[49m\u001b[43m[\u001b[49m\u001b[43mdf_stset\u001b[49m\u001b[43m[\u001b[49m\u001b[38;5;124;43m'\u001b[39;49m\u001b[38;5;124;43mItems\u001b[39;49m\u001b[38;5;124;43m'\u001b[39;49m\u001b[43m]\u001b[49m\u001b[38;5;241;43m.\u001b[39;49m\u001b[43mapply\u001b[49m\u001b[43m(\u001b[49m\u001b[38;5;28;43;01mlambda\u001b[39;49;00m\u001b[43m \u001b[49m\u001b[43mitem\u001b[49m\u001b[43m:\u001b[49m\u001b[43m \u001b[49m\u001b[43mi\u001b[49m\u001b[43m \u001b[49m\u001b[38;5;129;43;01min\u001b[39;49;00m\u001b[43m \u001b[49m\u001b[43mitem\u001b[49m\u001b[43m)\u001b[49m\u001b[43m]\u001b[49m\u001b[43m[\u001b[49m\u001b[38;5;124;43m\"\u001b[39;49m\u001b[38;5;124;43mStSet\u001b[39;49m\u001b[38;5;124;43m\"\u001b[39;49m\u001b[43m]\u001b[49m\u001b[38;5;241m.\u001b[39miloc[\u001b[38;5;241m0\u001b[39m])\n\u001b[0;32m     12\u001b[0m intersection_list \u001b[38;5;241m=\u001b[39m \u001b[38;5;28mset\u001b[39m(list_occupancy_item[\u001b[38;5;241m0\u001b[39m])\n\u001b[0;32m     13\u001b[0m \u001b[38;5;28;01mfor\u001b[39;00m sublist \u001b[38;5;129;01min\u001b[39;00m list_occupancy_item[\u001b[38;5;241m1\u001b[39m:]:\n",
      "File \u001b[1;32mc:\\Users\\tgtha\\AppData\\Local\\Programs\\Python\\Python39\\lib\\site-packages\\pandas\\core\\frame.py:2878\u001b[0m, in \u001b[0;36mDataFrame.__getitem__\u001b[1;34m(self, key)\u001b[0m\n\u001b[0;32m   2876\u001b[0m         \u001b[38;5;28;01mif\u001b[39;00m \u001b[38;5;28mself\u001b[39m\u001b[38;5;241m.\u001b[39mcolumns\u001b[38;5;241m.\u001b[39mnlevels \u001b[38;5;241m>\u001b[39m \u001b[38;5;241m1\u001b[39m:\n\u001b[0;32m   2877\u001b[0m             \u001b[38;5;28;01mreturn\u001b[39;00m \u001b[38;5;28mself\u001b[39m\u001b[38;5;241m.\u001b[39m_getitem_multilevel(key)\n\u001b[1;32m-> 2878\u001b[0m         \u001b[38;5;28;01mreturn\u001b[39;00m \u001b[38;5;28;43mself\u001b[39;49m\u001b[38;5;241;43m.\u001b[39;49m\u001b[43m_get_item_cache\u001b[49m\u001b[43m(\u001b[49m\u001b[43mkey\u001b[49m\u001b[43m)\u001b[49m\n\u001b[0;32m   2880\u001b[0m \u001b[38;5;66;03m# Do we have a slicer (on rows)?\u001b[39;00m\n\u001b[0;32m   2881\u001b[0m indexer \u001b[38;5;241m=\u001b[39m convert_to_index_sliceable(\u001b[38;5;28mself\u001b[39m, key)\n",
      "File \u001b[1;32mc:\\Users\\tgtha\\AppData\\Local\\Programs\\Python\\Python39\\lib\\site-packages\\pandas\\core\\generic.py:3541\u001b[0m, in \u001b[0;36mNDFrame._get_item_cache\u001b[1;34m(self, item)\u001b[0m\n\u001b[0;32m   3536\u001b[0m \u001b[38;5;28;01mif\u001b[39;00m res \u001b[38;5;129;01mis\u001b[39;00m \u001b[38;5;28;01mNone\u001b[39;00m:\n\u001b[0;32m   3537\u001b[0m     \u001b[38;5;66;03m# All places that call _get_item_cache have unique columns,\u001b[39;00m\n\u001b[0;32m   3538\u001b[0m     \u001b[38;5;66;03m#  pending resolution of GH#33047\u001b[39;00m\n\u001b[0;32m   3540\u001b[0m     loc \u001b[38;5;241m=\u001b[39m \u001b[38;5;28mself\u001b[39m\u001b[38;5;241m.\u001b[39mcolumns\u001b[38;5;241m.\u001b[39mget_loc(item)\n\u001b[1;32m-> 3541\u001b[0m     values \u001b[38;5;241m=\u001b[39m \u001b[38;5;28;43mself\u001b[39;49m\u001b[38;5;241;43m.\u001b[39;49m\u001b[43m_mgr\u001b[49m\u001b[38;5;241;43m.\u001b[39;49m\u001b[43miget\u001b[49m\u001b[43m(\u001b[49m\u001b[43mloc\u001b[49m\u001b[43m)\u001b[49m\n\u001b[0;32m   3542\u001b[0m     res \u001b[38;5;241m=\u001b[39m \u001b[38;5;28mself\u001b[39m\u001b[38;5;241m.\u001b[39m_box_col_values(values, loc)\n\u001b[0;32m   3544\u001b[0m     cache[item] \u001b[38;5;241m=\u001b[39m res\n",
      "File \u001b[1;32mc:\\Users\\tgtha\\AppData\\Local\\Programs\\Python\\Python39\\lib\\site-packages\\pandas\\core\\internals\\managers.py:988\u001b[0m, in \u001b[0;36mBlockManager.iget\u001b[1;34m(self, i)\u001b[0m\n\u001b[0;32m    984\u001b[0m \u001b[38;5;28;01mdef\u001b[39;00m \u001b[38;5;21miget\u001b[39m(\u001b[38;5;28mself\u001b[39m, i: \u001b[38;5;28mint\u001b[39m) \u001b[38;5;241m-\u001b[39m\u001b[38;5;241m>\u001b[39m \u001b[38;5;124m\"\u001b[39m\u001b[38;5;124mSingleBlockManager\u001b[39m\u001b[38;5;124m\"\u001b[39m:\n\u001b[0;32m    985\u001b[0m \u001b[38;5;250m    \u001b[39m\u001b[38;5;124;03m\"\"\"\u001b[39;00m\n\u001b[0;32m    986\u001b[0m \u001b[38;5;124;03m    Return the data as a SingleBlockManager.\u001b[39;00m\n\u001b[0;32m    987\u001b[0m \u001b[38;5;124;03m    \"\"\"\u001b[39;00m\n\u001b[1;32m--> 988\u001b[0m     block \u001b[38;5;241m=\u001b[39m \u001b[38;5;28mself\u001b[39m\u001b[38;5;241m.\u001b[39mblocks[\u001b[38;5;28;43mself\u001b[39;49m\u001b[38;5;241;43m.\u001b[39;49m\u001b[43mblknos\u001b[49m[i]]\n\u001b[0;32m    989\u001b[0m     values \u001b[38;5;241m=\u001b[39m block\u001b[38;5;241m.\u001b[39miget(\u001b[38;5;28mself\u001b[39m\u001b[38;5;241m.\u001b[39mblklocs[i])\n\u001b[0;32m    991\u001b[0m     \u001b[38;5;66;03m# shortcut for select a single-dim from a 2-dim BM\u001b[39;00m\n",
      "File \u001b[1;32mc:\\Users\\tgtha\\AppData\\Local\\Programs\\Python\\Python39\\lib\\site-packages\\pandas\\core\\internals\\managers.py:175\u001b[0m, in \u001b[0;36mBlockManager.blknos\u001b[1;34m(self)\u001b[0m\n\u001b[0;32m    165\u001b[0m \u001b[38;5;250m\u001b[39m\u001b[38;5;124;03m\"\"\"\u001b[39;00m\n\u001b[0;32m    166\u001b[0m \u001b[38;5;124;03mSuppose we want to find the array corresponding to our i'th column.\u001b[39;00m\n\u001b[0;32m    167\u001b[0m \n\u001b[1;32m   (...)\u001b[0m\n\u001b[0;32m    171\u001b[0m \u001b[38;5;124;03mself.blocks[self.blknos[i]]\u001b[39;00m\n\u001b[0;32m    172\u001b[0m \u001b[38;5;124;03m\"\"\"\u001b[39;00m\n\u001b[0;32m    173\u001b[0m \u001b[38;5;28;01mif\u001b[39;00m \u001b[38;5;28mself\u001b[39m\u001b[38;5;241m.\u001b[39m_blknos \u001b[38;5;129;01mis\u001b[39;00m \u001b[38;5;28;01mNone\u001b[39;00m:\n\u001b[0;32m    174\u001b[0m     \u001b[38;5;66;03m# Note: these can be altered by other BlockManager methods.\u001b[39;00m\n\u001b[1;32m--> 175\u001b[0m     \u001b[38;5;28;43mself\u001b[39;49m\u001b[38;5;241;43m.\u001b[39;49m\u001b[43m_rebuild_blknos_and_blklocs\u001b[49m\u001b[43m(\u001b[49m\u001b[43m)\u001b[49m\n\u001b[0;32m    177\u001b[0m \u001b[38;5;28;01mreturn\u001b[39;00m \u001b[38;5;28mself\u001b[39m\u001b[38;5;241m.\u001b[39m_blknos\n",
      "File \u001b[1;32mc:\\Users\\tgtha\\AppData\\Local\\Programs\\Python\\Python39\\lib\\site-packages\\pandas\\core\\internals\\managers.py:250\u001b[0m, in \u001b[0;36mBlockManager._rebuild_blknos_and_blklocs\u001b[1;34m(self)\u001b[0m\n\u001b[0;32m    248\u001b[0m     rl \u001b[38;5;241m=\u001b[39m blk\u001b[38;5;241m.\u001b[39mmgr_locs\n\u001b[0;32m    249\u001b[0m     new_blknos[rl\u001b[38;5;241m.\u001b[39mindexer] \u001b[38;5;241m=\u001b[39m blkno\n\u001b[1;32m--> 250\u001b[0m     \u001b[43mnew_blklocs\u001b[49m\u001b[43m[\u001b[49m\u001b[43mrl\u001b[49m\u001b[38;5;241;43m.\u001b[39;49m\u001b[43mindexer\u001b[49m\u001b[43m]\u001b[49m \u001b[38;5;241m=\u001b[39m np\u001b[38;5;241m.\u001b[39marange(\u001b[38;5;28mlen\u001b[39m(rl))\n\u001b[0;32m    252\u001b[0m \u001b[38;5;28;01mif\u001b[39;00m (new_blknos \u001b[38;5;241m==\u001b[39m \u001b[38;5;241m-\u001b[39m\u001b[38;5;241m1\u001b[39m)\u001b[38;5;241m.\u001b[39many():\n\u001b[0;32m    253\u001b[0m     \u001b[38;5;66;03m# TODO: can we avoid this?  it isn't cheap\u001b[39;00m\n\u001b[0;32m    254\u001b[0m     \u001b[38;5;28;01mraise\u001b[39;00m \u001b[38;5;167;01mAssertionError\u001b[39;00m(\u001b[38;5;124m\"\u001b[39m\u001b[38;5;124mGaps in blk ref_locs\u001b[39m\u001b[38;5;124m\"\u001b[39m)\n",
      "\u001b[1;31mKeyboardInterrupt\u001b[0m: "
     ]
    }
   ],
   "source": [
    "#test DFHOI\n",
    "HOIS = []\n",
    "C1 = []\n",
    "HOI1 = []\n",
    "CK_minus_1 = []\n",
    "\n",
    "k = 2 # loop to create 2-itemset\n",
    "threshold = 0.25 \n",
    "threshold = threshold * len_df # ex: threshold = 25% of len(database)\n",
    "start_time = time.time()\n",
    "\n",
    "#create candidate 1 and HOI1 itemset\n",
    "C1, HOI1 = mine_hoi_1_itemset(threshold, hastheSameLengh, df_stset)\n",
    "\n",
    "HOIS = HOI1\n",
    "\n",
    "while C1:\n",
    "    HOIS.append(mine_depth_hois(threshold, hastheSameLengh, C1, df_stset))\n",
    "    \n",
    "for i in HOIS:\n",
    "    print(i)"
   ]
  }
 ],
 "metadata": {
  "kernelspec": {
   "display_name": "Python 3",
   "language": "python",
   "name": "python3"
  },
  "language_info": {
   "codemirror_mode": {
    "name": "ipython",
    "version": 3
   },
   "file_extension": ".py",
   "mimetype": "text/x-python",
   "name": "python",
   "nbconvert_exporter": "python",
   "pygments_lexer": "ipython3",
   "version": "3.9.2"
  }
 },
 "nbformat": 4,
 "nbformat_minor": 2
}
